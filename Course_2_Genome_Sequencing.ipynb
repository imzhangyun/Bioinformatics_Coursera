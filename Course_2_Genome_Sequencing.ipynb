{
 "cells": [
  {
   "cell_type": "code",
   "execution_count": 1,
   "metadata": {},
   "outputs": [],
   "source": [
    "import random\n",
    "import copy\n",
    "import numpy as np"
   ]
  },
  {
   "cell_type": "markdown",
   "metadata": {},
   "source": [
    "# Week 1"
   ]
  },
  {
   "cell_type": "code",
   "execution_count": 2,
   "metadata": {},
   "outputs": [
    {
     "data": {
      "text/plain": [
       "['CAATC', 'AATCC', 'ATCCA', 'TCCAA', 'CCAAC']"
      ]
     },
     "execution_count": 2,
     "metadata": {},
     "output_type": "execute_result"
    }
   ],
   "source": [
    "'''\n",
    "Code Challenge: Solve the String Composition Problem.\n",
    "Input: An integer k and a string Text.\n",
    "Output: Compositionk(Text) (the k-mers can be provided in any order).\n",
    "'''\n",
    "\n",
    "def Composition(string, k):\n",
    "    composition = []\n",
    "    for start in range(len(string) - k +1):\n",
    "        end       = start + k\n",
    "        substring = string[start: end]\n",
    "        composition.append(substring)\n",
    "    return (composition)\n",
    "\n",
    "k = 5\n",
    "string = 'CAATCCAAC'\n",
    "\n",
    "Composition(string, k)"
   ]
  },
  {
   "cell_type": "code",
   "execution_count": 3,
   "metadata": {},
   "outputs": [
    {
     "data": {
      "text/plain": [
       "'ACCGAAGCT'"
      ]
     },
     "execution_count": 3,
     "metadata": {},
     "output_type": "execute_result"
    }
   ],
   "source": [
    "'''\n",
    "String Spelled by a Genome Path Problem. Reconstruct a string from its genome path.\n",
    "Input: A sequence of k-mers Pattern1, … ,Patternn such that the last k - 1 symbols of Patterni are equal to the first k-1 symbolsof Patterni+1 for 1 ≤ i ≤ n-1.\n",
    "Output: A string Text of length k+n-1 such that the i-th k-mer in Text is equal to Patterni  (for 1 ≤ i ≤ n).\n",
    "'''\n",
    "\n",
    "def NaiveLink(patterns):\n",
    "    if type(patterns) == str:\n",
    "        patterns = patterns.split('\\n')\n",
    "    string = patterns[0]\n",
    "    for pattern in patterns[1:]:\n",
    "        string = string + pattern[-1]\n",
    "    return (string)\n",
    "\n",
    "patterns = '''ACCGA\n",
    "CCGAA\n",
    "CGAAG\n",
    "GAAGC\n",
    "AAGCT'''\n",
    "\n",
    "NaiveLink(patterns)"
   ]
  },
  {
   "cell_type": "code",
   "execution_count": 4,
   "metadata": {},
   "outputs": [
    {
     "data": {
      "text/plain": [
       "{'AGGCA': ['GGCAT', 'GGCAC'],\n",
       " 'CATGC': ['ATGCG'],\n",
       " 'GCATG': ['CATGC'],\n",
       " 'GGCAT': ['GCATG']}"
      ]
     },
     "execution_count": 4,
     "metadata": {},
     "output_type": "execute_result"
    }
   ],
   "source": [
    "'''\n",
    "Code Challenge: Solve the Overlap Graph Problem (restated below).\n",
    "Input: A collection Patterns of k-mers.\n",
    "Output: The overlap graph Overlap(Patterns), in the form of an adjacency list. \n",
    "'''\n",
    "\n",
    "def FindOverlap(patterns):\n",
    "    if type(patterns) == str:\n",
    "        patterns = patterns.split('\\n')\n",
    "    \n",
    "    adjacency_list = {}\n",
    "    prefixs = {}\n",
    "    suffixs = {}\n",
    "    for pattern in patterns:\n",
    "        suffixs[pattern] = pattern[1:]\n",
    "        if pattern[:-1] in prefixs:\n",
    "            prefixs[pattern[:-1]].append(pattern)\n",
    "        else:\n",
    "            prefixs[pattern[:-1]] = [pattern]\n",
    "    \n",
    "    for pattern,suffix in suffixs.items():\n",
    "        if suffix in prefixs:\n",
    "            adjacency_list[pattern] = prefixs[suffix]\n",
    "            \n",
    "    return(adjacency_list)\n",
    "\n",
    "patterns = '''ATGCG\n",
    "GCATG\n",
    "CATGC\n",
    "AGGCA\n",
    "GGCAT\n",
    "GGCAC'''\n",
    "\n",
    "FindOverlap(patterns)"
   ]
  },
  {
   "cell_type": "code",
   "execution_count": 5,
   "metadata": {},
   "outputs": [
    {
     "data": {
      "text/plain": [
       "{'AGG': ['GGG'],\n",
       " 'CAG': ['AGG', 'AGG'],\n",
       " 'GAG': ['AGG'],\n",
       " 'GGA': ['GAG'],\n",
       " 'GGG': ['GGG', 'GGA']}"
      ]
     },
     "execution_count": 5,
     "metadata": {},
     "output_type": "execute_result"
    }
   ],
   "source": [
    "'''\n",
    "DeBruijn Graph from k-mers Problem: Construct the de Bruijn graph from a set of k-mers.\n",
    "Input: A collection of k-mers Patterns.\n",
    "Output: The adjacency list of the de Bruijn graph DeBruijn(Patterns).\n",
    "'''\n",
    "\n",
    "def PathGraph(patterns):\n",
    "    if type(patterns) == str:\n",
    "        patterns = patterns.split('\\n')\n",
    "    \n",
    "    graph = {}\n",
    "    for pattern in patterns:\n",
    "        if pattern[:-1] in graph:\n",
    "            graph[pattern[:-1]].append(pattern[1:])\n",
    "        else:\n",
    "            graph[pattern[:-1]] = [pattern[1:]]\n",
    "    return(graph)\n",
    "\n",
    "patterns = '''GAGG\n",
    "CAGG\n",
    "GGGG\n",
    "GGGA\n",
    "CAGG\n",
    "AGGG\n",
    "GGAG'''\n",
    "\n",
    "PathGraph(patterns)"
   ]
  },
  {
   "cell_type": "code",
   "execution_count": 6,
   "metadata": {},
   "outputs": [
    {
     "data": {
      "text/plain": [
       "{'AAG': ['AGA', 'AGA'],\n",
       " 'AGA': ['GAT'],\n",
       " 'ATT': ['TTC'],\n",
       " 'CTA': ['TAA'],\n",
       " 'CTC': ['TCT'],\n",
       " 'GAT': ['ATT'],\n",
       " 'TAA': ['AAG'],\n",
       " 'TCT': ['CTC', 'CTA'],\n",
       " 'TTC': ['TCT']}"
      ]
     },
     "execution_count": 6,
     "metadata": {},
     "output_type": "execute_result"
    }
   ],
   "source": [
    "'''\n",
    "Code Challenge: Solve the De Bruijn Graph from a String Problem.\n",
    "Input: An integer k and a string Text.\n",
    "Output: DeBruijnk(Text), in the form of an adjacency list.\n",
    "'''\n",
    "\n",
    "def DeBruijn(string, k):\n",
    "    composition  = Composition(string, k)\n",
    "    output_graph = PathGraph(composition)\n",
    "    \n",
    "    return (output_graph)\n",
    "\n",
    "k = 4\n",
    "string = 'AAGATTCTCTAAGA'\n",
    "\n",
    "DeBruijn(string, k)"
   ]
  },
  {
   "cell_type": "markdown",
   "metadata": {},
   "source": [
    "# Week 2"
   ]
  },
  {
   "cell_type": "code",
   "execution_count": 7,
   "metadata": {},
   "outputs": [
    {
     "data": {
      "text/plain": [
       "['4', '2', '1', '0', '3', '2', '6', '8', '7', '9', '6', '5', '4']"
      ]
     },
     "execution_count": 7,
     "metadata": {},
     "output_type": "execute_result"
    }
   ],
   "source": [
    "'''\n",
    "Code Challenge: Solve the Eulerian Cycle Problem.\n",
    "Input: The adjacency list of an Eulerian directed graph.\n",
    "Output: An Eulerian cycle in this graph.\n",
    "'''\n",
    "\n",
    "def GraphString2Dict(graph):\n",
    "    graph = graph.split('\\n')\n",
    "    graph_dict = {}\n",
    "    for path in graph:\n",
    "        path       = path.replace(' ','')\n",
    "        from_, to_ = path.split('->')\n",
    "        if ',' in to_:\n",
    "            to_              = to_.split(',')\n",
    "            graph_dict[from_] = to_\n",
    "        else:\n",
    "            graph_dict[from_] = [to_]\n",
    "    return(graph_dict)\n",
    "\n",
    "def EulerianCycle(graph):\n",
    "    if type(graph) == str:\n",
    "        graph = GraphString2Dict(graph)\n",
    "        \n",
    "    tmp_graph = copy.deepcopy(graph)\n",
    "    from_ = random.choice(list(tmp_graph.keys()))\n",
    "    cycle = [from_]\n",
    "    unexplored_nodes = {}\n",
    "    \n",
    "    while len(tmp_graph) != 0:\n",
    "        if from_ in tmp_graph:\n",
    "            to = random.choice(tmp_graph[from_])\n",
    "            cycle.append(to)\n",
    "            tmp_graph[from_].remove(to)\n",
    "            \n",
    "            if len(tmp_graph[from_]) == 0:\n",
    "                tmp_graph.pop(from_)\n",
    "                unexplored_nodes.pop(from_, None)\n",
    "            else:\n",
    "                unexplored_nodes[from_] = copy.deepcopy(tmp_graph[from_])\n",
    "            from_ = to\n",
    "        \n",
    "        else:\n",
    "            # find a random new start point from unexplored_nodes\n",
    "            unexplored_node_index = np.where(np.array(cycle) == random.choice(list(unexplored_nodes)))[0][-1]\n",
    "            unexplored_node       = cycle[unexplored_node_index]\n",
    "            next_node             = random.choice(unexplored_nodes[unexplored_node])\n",
    "            tmp_graph[unexplored_node].remove(next_node)\n",
    "            \n",
    "            # make the cycle go back to new start point\n",
    "            recover_cycle = cycle[unexplored_node_index:]\n",
    "            cycle         = cycle[:unexplored_node_index + 1]\n",
    "            from_         = next_node\n",
    "            cycle.append(from_)\n",
    "            \n",
    "            # reconstruct the tmp_graph and unexplored_nodes according to current cycle\n",
    "            unexplored_nodes = {}\n",
    "            tmp_graph        = copy.deepcopy(graph)\n",
    "            for i in range(len(cycle) - 1):\n",
    "                node    = cycle[i]\n",
    "                to_node = cycle[i + 1]\n",
    "                tmp_graph[node].remove(to_node)\n",
    "                if len(tmp_graph[node]) == 0:\n",
    "                    tmp_graph.pop(node)\n",
    "                    unexplored_nodes.pop(node, None)\n",
    "                else : \n",
    "                    unexplored_nodes[node] = copy.deepcopy(tmp_graph[node])\n",
    "    return(cycle)\n",
    "\n",
    "graph = '''0 -> 3\n",
    "     1 -> 0\n",
    "     2 -> 1,6\n",
    "     3 -> 2\n",
    "     4 -> 2\n",
    "     5 -> 4\n",
    "     6 -> 5,8\n",
    "     7 -> 9\n",
    "     8 -> 7\n",
    "     9 -> 6'''\n",
    "\n",
    "EulerianCycle(graph)"
   ]
  },
  {
   "cell_type": "code",
   "execution_count": 8,
   "metadata": {},
   "outputs": [
    {
     "data": {
      "text/plain": [
       "['6', '7', '8', '9', '6', '3', '0', '2', '1', '3', '4']"
      ]
     },
     "execution_count": 8,
     "metadata": {},
     "output_type": "execute_result"
    }
   ],
   "source": [
    "'''\n",
    "Code Challenge: Solve the Eulerian Path Problem.\n",
    "Input: The adjacency list of a directed graph that has an Eulerian path.\n",
    "Output: An Eulerian path in this graph.\n",
    "'''\n",
    "\n",
    "def CheckBalance(graph):\n",
    "    if type(graph) == str:\n",
    "        graph = GraphString2Dict(graph)\n",
    "    balance = {}\n",
    "    \n",
    "    for key, values in graph.items():\n",
    "        balance[key] = 0\n",
    "        for value in values:\n",
    "            balance[value] = 0\n",
    "    \n",
    "    for from_, tos in graph.items():\n",
    "        balance[from_] = balance[from_] + len(tos)\n",
    "        for to in tos:\n",
    "            balance[to] = balance[to] - 1\n",
    "    return (balance)\n",
    "\n",
    "def EulerianPath(graph):\n",
    "    if type(graph) == str:\n",
    "        graph = GraphString2Dict(graph)\n",
    "    \n",
    "    balance = CheckBalance(graph)\n",
    "    # find start point by balance > 0\n",
    "    for key, values in balance.items():\n",
    "        if values > 0 :\n",
    "            from_ = key\n",
    "            break\n",
    "            \n",
    "    tmp_graph = copy.deepcopy(graph)\n",
    "    cycle = [from_]\n",
    "    unexplored_nodes = {}\n",
    "    \n",
    "    while len(tmp_graph) != 0:\n",
    "        if from_ in tmp_graph:\n",
    "            to = random.choice(tmp_graph[from_])\n",
    "            cycle.append(to)\n",
    "            tmp_graph[from_].remove(to)\n",
    "            if len(tmp_graph[from_]) == 0:\n",
    "                tmp_graph.pop(from_)\n",
    "                unexplored_nodes.pop(from_, None)\n",
    "            else:\n",
    "                unexplored_nodes[from_] = copy.deepcopy(tmp_graph[from_])\n",
    "            from_ = to\n",
    "        \n",
    "        else:\n",
    "            unexplored_node_index = np.where(np.array(cycle) == random.choice(list(unexplored_nodes)))[0][-1]\n",
    "            unexplored_node       = cycle[unexplored_node_index]\n",
    "            next_node             = random.choice(unexplored_nodes[unexplored_node])\n",
    "            tmp_graph[unexplored_node].remove(next_node)\n",
    "\n",
    "            recover_cycle = cycle[unexplored_node_index:]\n",
    "            cycle         = cycle[:unexplored_node_index + 1]\n",
    "            from_         = next_node\n",
    "            cycle.append(from_)\n",
    "\n",
    "            unexplored_nodes = {}\n",
    "            tmp_graph        = copy.deepcopy(graph)\n",
    "            for i in range(len(cycle) - 1):\n",
    "                node    = cycle[i]\n",
    "                to_node = cycle[i + 1]\n",
    "                tmp_graph[node].remove(to_node)\n",
    "                if len(tmp_graph[node]) == 0:\n",
    "                    tmp_graph.pop(node)\n",
    "                    unexplored_nodes.pop(node, None)\n",
    "                else : \n",
    "                    unexplored_nodes[node] = copy.deepcopy(tmp_graph[node])\n",
    "    return(cycle)\n",
    "\n",
    "graph='''0 -> 2\n",
    "     1 -> 3\n",
    "     2 -> 1\n",
    "     3 -> 0,4\n",
    "     6 -> 3,7\n",
    "     7 -> 8\n",
    "     8 -> 9\n",
    "     9 -> 6'''\n",
    "\n",
    "EulerianPath(graph)"
   ]
  },
  {
   "cell_type": "code",
   "execution_count": 9,
   "metadata": {},
   "outputs": [
    {
     "data": {
      "text/plain": [
       "'GGCTTACCA'"
      ]
     },
     "execution_count": 9,
     "metadata": {},
     "output_type": "execute_result"
    }
   ],
   "source": [
    "'''\n",
    "Code Challenge: Solve the String Reconstruction Problem.\n",
    "Input: An integer k followed by a list of k-mers Patterns.\n",
    "Output: A string Text with k-mer composition equal to Patterns. (If multiple answers exist, you may return any one.)\n",
    "'''\n",
    "\n",
    "def Reconstruction(k, strings):\n",
    "    if type(strings) == str:\n",
    "        strings = strings.split('\\n')\n",
    "    graph          = PathGraph(strings)\n",
    "    cycle          = EulerianPath(graph)\n",
    "    reconstruction = NaiveLink(cycle)\n",
    "    return(reconstruction)\n",
    "\n",
    "k = 4\n",
    "strings = '''CTTA\n",
    "ACCA\n",
    "TACC\n",
    "GGCT\n",
    "GCTT\n",
    "TTAC'''\n",
    "\n",
    "Reconstruction(k, strings)"
   ]
  },
  {
   "cell_type": "code",
   "execution_count": 10,
   "metadata": {},
   "outputs": [],
   "source": [
    "'''\n",
    "Code Challenge: Solve the k-Universal Circular String Problem.\n",
    "Input: An integer k.\n",
    "Output: A k-universal circular string.\n",
    "'''\n",
    "\n",
    "def BinaryStrings(k):\n",
    "    strings = ['0','1']\n",
    "    for i in range(k - 1):\n",
    "        strings = strings + strings\n",
    "        half    = len(strings) / 2\n",
    "        for index in range(len(strings)):\n",
    "            if index < half:\n",
    "                strings[index] = strings[index] + '0'\n",
    "            else :\n",
    "                strings[index] = strings[index] + '1'\n",
    "    return(strings)\n",
    "\n",
    "def KUniversal(k):\n",
    "    strings        = BinaryStrings(k) \n",
    "    graph          = PathGraph(strings)\n",
    "    cycle          = EulerianCycle(graph)\n",
    "    reconstruction = NaiveLink(cycle)\n",
    "    # delete last k - 1 number, because it is a cycle \n",
    "    reconstruction = reconstruction[: -k + 1]\n",
    "    return(reconstruction)\n",
    "\n",
    "k = 4\n",
    "\n"
   ]
  },
  {
   "cell_type": "code",
   "execution_count": 11,
   "metadata": {},
   "outputs": [
    {
     "data": {
      "text/plain": [
       "'GTGGTCGTGAGATGTTGA'"
      ]
     },
     "execution_count": 11,
     "metadata": {},
     "output_type": "execute_result"
    }
   ],
   "source": [
    "'''\n",
    "Code Challenge: Solve the String Reconstruction from Read-Pairs Problem.\n",
    "Input: Integers k and d followed by a collection of paired k-mers PairedReads.\n",
    "Output: A string Text with (k, d)-mer composition equal to PairedReads.\n",
    "'''\n",
    "\n",
    "def PairedPathGraph(gapped_patterns, k):\n",
    "    if type(gapped_patterns) == str:\n",
    "        gapped_patterns = gapped_patterns.split('\\n')\n",
    "\n",
    "    graph = {}\n",
    "    for pattern in gapped_patterns:\n",
    "        prefix = pattern[ : k - 1] + pattern[k    : (k * 2)]\n",
    "        suffix = pattern[1: k + 1] + pattern[k + 2: (k * 2) + 1]\n",
    "        if prefix in graph:\n",
    "            graph[prefix].append(suffix)\n",
    "        else:\n",
    "            graph[prefix] = [suffix]\n",
    "\n",
    "    return(graph)\n",
    "\n",
    "def PairedReconstruction(gapped_patterns, k, d):\n",
    "    graph = PairedPathGraph(gapped_patterns, k)\n",
    "    path  = EulerianPath(graph)  \n",
    "    \n",
    "    gapped_patterns_1 = []\n",
    "    gapped_patterns_2 = []\n",
    "    \n",
    "    for gapped_pattern in path:\n",
    "        pattern_1, pattern_2 = gapped_pattern.split('|')\n",
    "        gapped_patterns_1.append(pattern_1)\n",
    "        gapped_patterns_2.append(pattern_2)\n",
    "        \n",
    "    prefix_string = NaiveLink(gapped_patterns_1)\n",
    "    suffix_string = NaiveLink(gapped_patterns_2)\n",
    "    \n",
    "    overlap_length = len(prefix_string) - k - d\n",
    "    for i in range(overlap_length):\n",
    "        if suffix_string[i] != prefix_string[i + k + d]:\n",
    "            return('there is no string spelled by the gapped patterns')\n",
    "    whole_string = prefix_string + suffix_string[overlap_length:]\n",
    "    return(whole_string)\n",
    "\n",
    "k = 4\n",
    "d = 2\n",
    "gapped_patterns = '''GAGA|TTGA\n",
    "TCGT|GATG\n",
    "CGTG|ATGT\n",
    "TGGT|TGAG\n",
    "GTGA|TGTT\n",
    "GTGG|GTGA\n",
    "TGAG|GTTG\n",
    "GGTC|GAGA\n",
    "GTCG|AGAT'''\n",
    "\n",
    "PairedReconstruction(gapped_patterns, k, d)"
   ]
  },
  {
   "cell_type": "code",
   "execution_count": 12,
   "metadata": {},
   "outputs": [
    {
     "data": {
      "text/plain": [
       "['ATG', 'ATG', 'AGA', 'TGT', 'TGGA', 'CAT', 'GAT']"
      ]
     },
     "execution_count": 12,
     "metadata": {},
     "output_type": "execute_result"
    }
   ],
   "source": [
    "'''\n",
    "Contig Generation Problem: Generate the contigs from a collection of reads (with imperfect coverage).\n",
    "Input: A collection of k-mers Patterns. \n",
    "Output: All contigs in DeBruijn(Patterns).\n",
    "'''\n",
    "\n",
    "def CountInOut(graph):\n",
    "    if type(graph) == str:\n",
    "        graph = GraphString2Dict(graph)\n",
    "        \n",
    "    in_dict  = {}\n",
    "    out_dict = {}\n",
    "    \n",
    "    for key, values in graph.items():\n",
    "        out_dict[key] = 0\n",
    "        for value in values:\n",
    "            in_dict[value] = 0\n",
    "    \n",
    "    for prefix, suffixs in graph.items():\n",
    "        out_dict[prefix] = out_dict[prefix] + len(suffixs)\n",
    "        for suffix in suffixs:\n",
    "            in_dict[suffix] = in_dict[suffix] + 1\n",
    "            \n",
    "    return (in_dict,out_dict)\n",
    "\n",
    "def MaximalNonBranchingPaths(strings):\n",
    "    graph = PathGraph(strings)\n",
    "\n",
    "    in_count, out_count = CountInOut(graph)\n",
    "\n",
    "    nodes = set()\n",
    "    for _ in in_count.keys():\n",
    "        nodes.add(_)\n",
    "    for _ in out_count.keys():    \n",
    "        nodes.add(_)\n",
    "    nodes = list(nodes)\n",
    "\n",
    "    '''\n",
    "    #This is for isolated cycle\n",
    "    one_one_graph = {}\n",
    "    for key, value in graph.items():\n",
    "        if (in_count.get(key, -1) == out_count.get(key, -1) == 1):\n",
    "            one_one_graph[key] = value\n",
    "    '''\n",
    "    \n",
    "    paths = []\n",
    "    for node in nodes:\n",
    "        if (in_count.get(node) != 1) | (out_count.get(node) != 1):\n",
    "            if out_count.get(node, -1) > 0:\n",
    "                for out_node in graph[node]:\n",
    "                    non_branching_path = []\n",
    "                    non_branching_path.append(node)\n",
    "                    non_branching_path.append(out_node)\n",
    "                    while (in_count.get(out_node, -1) == out_count.get(out_node, -1) == 1):\n",
    "                        #one_one_graph.pop(out_node)\n",
    "                        non_branching_path.extend(graph[out_node])\n",
    "                        out_node = graph[out_node][0]\n",
    "                    paths.append(NaiveLink(non_branching_path))\n",
    "                    \n",
    "    return(paths)\n",
    "\n",
    "strings = '''ATG\n",
    "ATG\n",
    "TGT\n",
    "TGG\n",
    "CAT\n",
    "GGA\n",
    "GAT\n",
    "AGA'''\n",
    "\n",
    "MaximalNonBranchingPaths(strings)"
   ]
  }
 ],
 "metadata": {
  "kernelspec": {
   "display_name": "Python 3",
   "language": "python",
   "name": "python3"
  },
  "language_info": {
   "codemirror_mode": {
    "name": "ipython",
    "version": 3
   },
   "file_extension": ".py",
   "mimetype": "text/x-python",
   "name": "python",
   "nbconvert_exporter": "python",
   "pygments_lexer": "ipython3",
   "version": "3.6.3"
  }
 },
 "nbformat": 4,
 "nbformat_minor": 2
}
