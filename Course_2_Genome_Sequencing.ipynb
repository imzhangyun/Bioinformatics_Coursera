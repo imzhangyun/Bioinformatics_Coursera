{
 "cells": [
  {
   "cell_type": "markdown",
   "metadata": {},
   "source": [
    "# Week 1"
   ]
  },
  {
   "cell_type": "code",
   "execution_count": 1,
   "metadata": {},
   "outputs": [
    {
     "data": {
      "text/plain": [
       "['CAATC', 'AATCC', 'ATCCA', 'TCCAA', 'CCAAC']"
      ]
     },
     "execution_count": 1,
     "metadata": {},
     "output_type": "execute_result"
    }
   ],
   "source": [
    "'''\n",
    "Code Challenge: Solve the String Composition Problem.\n",
    "Input: An integer k and a string Text.\n",
    "Output: Compositionk(Text) (the k-mers can be provided in any order).\n",
    "'''\n",
    "\n",
    "def Composition(string, k):\n",
    "    composition = []\n",
    "    for start in range(len(string) - k +1):\n",
    "        end       = start + k\n",
    "        substring = string[start: end]\n",
    "        composition.append(substring)\n",
    "    return (composition)\n",
    "\n",
    "k = 5\n",
    "string = 'CAATCCAAC'\n",
    "\n",
    "Composition(string, k)"
   ]
  },
  {
   "cell_type": "code",
   "execution_count": 2,
   "metadata": {},
   "outputs": [
    {
     "data": {
      "text/plain": [
       "'ACCGAAGCT'"
      ]
     },
     "execution_count": 2,
     "metadata": {},
     "output_type": "execute_result"
    }
   ],
   "source": [
    "'''\n",
    "String Spelled by a Genome Path Problem. Reconstruct a string from its genome path.\n",
    "Input: A sequence of k-mers Pattern1, … ,Patternn such that the last k - 1 symbols of Patterni are equal to the first k-1 symbolsof Patterni+1 for 1 ≤ i ≤ n-1.\n",
    "Output: A string Text of length k+n-1 such that the i-th k-mer in Text is equal to Patterni  (for 1 ≤ i ≤ n).\n",
    "'''\n",
    "\n",
    "def Reconstruction(patterns):\n",
    "    if type(patterns) == str:\n",
    "        patterns = patterns.split('\\n')\n",
    "    string = patterns[0]\n",
    "    for pattern in patterns[1:]:\n",
    "        string = string + pattern[-1]\n",
    "    return (string)\n",
    "\n",
    "patterns = '''ACCGA\n",
    "CCGAA\n",
    "CGAAG\n",
    "GAAGC\n",
    "AAGCT'''\n",
    "\n",
    "Reconstruction(patterns)"
   ]
  },
  {
   "cell_type": "code",
   "execution_count": 3,
   "metadata": {},
   "outputs": [
    {
     "data": {
      "text/plain": [
       "{'AGGCA': ['GGCAT', 'GGCAC'],\n",
       " 'CATGC': ['ATGCG'],\n",
       " 'GCATG': ['CATGC'],\n",
       " 'GGCAT': ['GCATG']}"
      ]
     },
     "execution_count": 3,
     "metadata": {},
     "output_type": "execute_result"
    }
   ],
   "source": [
    "'''\n",
    "Code Challenge: Solve the Overlap Graph Problem (restated below).\n",
    "Input: A collection Patterns of k-mers.\n",
    "Output: The overlap graph Overlap(Patterns), in the form of an adjacency list. \n",
    "'''\n",
    "\n",
    "def FindOverlap(patterns):\n",
    "    if type(patterns) == str:\n",
    "        patterns = patterns.split('\\n')\n",
    "    \n",
    "    adjacency_list = {}\n",
    "    prefixs = {}\n",
    "    suffixs = {}\n",
    "    for pattern in patterns:\n",
    "        suffixs[pattern] = pattern[1:]\n",
    "        if pattern[:-1] in prefixs:\n",
    "            prefixs[pattern[:-1]].append(pattern)\n",
    "        else:\n",
    "            prefixs[pattern[:-1]] = [pattern]\n",
    "    \n",
    "    for pattern,suffix in suffixs.items():\n",
    "        if suffix in prefixs:\n",
    "            adjacency_list[pattern] = prefixs[suffix]\n",
    "            \n",
    "    return(adjacency_list)\n",
    "\n",
    "patterns = '''ATGCG\n",
    "GCATG\n",
    "CATGC\n",
    "AGGCA\n",
    "GGCAT\n",
    "GGCAC'''\n",
    "\n",
    "FindOverlap(patterns)"
   ]
  },
  {
   "cell_type": "code",
   "execution_count": 4,
   "metadata": {},
   "outputs": [
    {
     "data": {
      "text/plain": [
       "{'AGG': ['GGG'],\n",
       " 'CAG': ['AGG', 'AGG'],\n",
       " 'GAG': ['AGG'],\n",
       " 'GGA': ['GAG'],\n",
       " 'GGG': ['GGG', 'GGA']}"
      ]
     },
     "execution_count": 4,
     "metadata": {},
     "output_type": "execute_result"
    }
   ],
   "source": [
    "'''\n",
    "DeBruijn Graph from k-mers Problem: Construct the de Bruijn graph from a set of k-mers.\n",
    "Input: A collection of k-mers Patterns.\n",
    "Output: The adjacency list of the de Bruijn graph DeBruijn(Patterns).\n",
    "'''\n",
    "\n",
    "def PathGraph(patterns):\n",
    "    if type(patterns) == str:\n",
    "        patterns = patterns.split('\\n')\n",
    "    \n",
    "    graph = {}\n",
    "    for pattern in patterns:\n",
    "        if pattern[:-1] in graph:\n",
    "            graph[pattern[:-1]].append(pattern[1:])\n",
    "        else:\n",
    "            graph[pattern[:-1]] = [pattern[1:]]\n",
    "    return(graph)\n",
    "\n",
    "patterns = '''GAGG\n",
    "CAGG\n",
    "GGGG\n",
    "GGGA\n",
    "CAGG\n",
    "AGGG\n",
    "GGAG'''\n",
    "\n",
    "PathGraph(patterns)"
   ]
  },
  {
   "cell_type": "code",
   "execution_count": 5,
   "metadata": {},
   "outputs": [
    {
     "data": {
      "text/plain": [
       "{'AAG': ['AGA', 'AGA'],\n",
       " 'AGA': ['GAT'],\n",
       " 'ATT': ['TTC'],\n",
       " 'CTA': ['TAA'],\n",
       " 'CTC': ['TCT'],\n",
       " 'GAT': ['ATT'],\n",
       " 'TAA': ['AAG'],\n",
       " 'TCT': ['CTC', 'CTA'],\n",
       " 'TTC': ['TCT']}"
      ]
     },
     "execution_count": 5,
     "metadata": {},
     "output_type": "execute_result"
    }
   ],
   "source": [
    "'''\n",
    "Code Challenge: Solve the De Bruijn Graph from a String Problem.\n",
    "Input: An integer k and a string Text.\n",
    "Output: DeBruijnk(Text), in the form of an adjacency list.\n",
    "'''\n",
    "\n",
    "def DeBruijn(string, k):\n",
    "    composition  = Composition(string, k)\n",
    "    output_graph = PathGraph(composition)\n",
    "    \n",
    "    return (output_graph)\n",
    "\n",
    "k = 4\n",
    "string = 'AAGATTCTCTAAGA'\n",
    "\n",
    "DeBruijn(string, k)"
   ]
  },
  {
   "cell_type": "code",
   "execution_count": null,
   "metadata": {},
   "outputs": [],
   "source": []
  }
 ],
 "metadata": {
  "kernelspec": {
   "display_name": "Python 3",
   "language": "python",
   "name": "python3"
  },
  "language_info": {
   "codemirror_mode": {
    "name": "ipython",
    "version": 3
   },
   "file_extension": ".py",
   "mimetype": "text/x-python",
   "name": "python",
   "nbconvert_exporter": "python",
   "pygments_lexer": "ipython3",
   "version": "3.6.3"
  }
 },
 "nbformat": 4,
 "nbformat_minor": 2
}
