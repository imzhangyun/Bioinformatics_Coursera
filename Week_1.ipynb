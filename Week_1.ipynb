{
 "cells": [
  {
   "cell_type": "code",
   "execution_count": null,
   "metadata": {},
   "outputs": [],
   "source": [
    "def PatternCount(text, pattern):\n",
    "    count = 0\n",
    "    for start in range(len(text) - len(pattern) + 1):\n",
    "        end = start + len(pattern)\n",
    "        if pattern == text[start: end]:\n",
    "            count = count + 1\n",
    "    return(count)"
   ]
  },
  {
   "cell_type": "code",
   "execution_count": null,
   "metadata": {},
   "outputs": [],
   "source": [
    "def FrequentWords(text, k):\n",
    "    sub_texts = set()\n",
    "    for start in range(len(text) - k + 1):\n",
    "        end = start + k\n",
    "        sub_texts.add(text[start: end])\n",
    "        \n",
    "    counts = {}\n",
    "    for sub_text in sub_texts:\n",
    "        counts [sub_text] = PatternCount(text, sub_text)\n",
    "        \n",
    "    max_count = max(counts.values())\n",
    "    \n",
    "    for count in counts:\n",
    "        if counts[count] == max_count:\n",
    "            print(count)"
   ]
  },
  {
   "cell_type": "code",
   "execution_count": null,
   "metadata": {},
   "outputs": [],
   "source": [
    "def ReverseComplement(text):\n",
    "    complementry_rule = {\n",
    "        'A' : 'T',\n",
    "        'T' : 'A',\n",
    "        'C' : 'G',\n",
    "        'G' : 'C' \n",
    "    }\n",
    "    \n",
    "    com_text = ''\n",
    "    for base in text:\n",
    "        com_text = com_text + complementry_rule[base]\n",
    "    \n",
    "    com_text = com_text[::-1]\n",
    "    \n",
    "    return (com_text)\n",
    "        "
   ]
  },
  {
   "cell_type": "code",
   "execution_count": null,
   "metadata": {},
   "outputs": [],
   "source": [
    "def PatternMatching(pattern, genome):\n",
    "    positions = []\n",
    "    for start in range(len(genome) - len(pattern) + 1):\n",
    "        end = start + len(pattern)\n",
    "        if pattern == genome[start: end]:\n",
    "            positions.append(start)\n",
    "    return(positions)"
   ]
  },
  {
   "cell_type": "code",
   "execution_count": null,
   "metadata": {},
   "outputs": [],
   "source": [
    "import numpy as np\n",
    "\n",
    "def ClumpFinding(genome, k, L, t):\n",
    "    patterns_positions={}\n",
    "    \n",
    "    for start in range(len(genome) - k +1):\n",
    "        end = start + k\n",
    "        pattern = genome[start: end]\n",
    "        if pattern in patterns_positions:\n",
    "            patterns_positions[pattern].append(start)\n",
    "        else:\n",
    "            patterns_positions[pattern] = [start]\n",
    "            \n",
    "    qualified_patterns = []        \n",
    "    for pattern, positions in patterns_positions.items():\n",
    "        if len(positions) >= t:\n",
    "            for position in positions:\n",
    "                count = sum((np.array(positions) >= position) &\n",
    "                      (np.array(positions) <= position + L))\n",
    "                if count == t:\n",
    "                    qualified_patterns.append(pattern)\n",
    "                    break\n",
    "    return(qualified_patterns)"
   ]
  },
  {
   "cell_type": "code",
   "execution_count": null,
   "metadata": {},
   "outputs": [],
   "source": [
    "def PatternToNumber(pattern):\n",
    "    if   pattern == 'A': return(0)\n",
    "    elif pattern == 'C': return(1)\n",
    "    elif pattern == 'G': return(2)\n",
    "    elif pattern == 'T': return(3)\n",
    "    else:\n",
    "        number = PatternToNumber(pattern[:-1])*4 + PatternToNumber(pattern[-1])\n",
    "        return(number)\n",
    "\n",
    "def NumberToBase(number):\n",
    "    if   number == 0: \n",
    "        return('A')\n",
    "    elif number == 1: \n",
    "        return('C')\n",
    "    elif number == 2: \n",
    "        return('G')\n",
    "    elif number == 3:\n",
    "        return('T')\n",
    "\n",
    "def NumberToPattern(number,digits):\n",
    "    pattern = ''\n",
    "    for i in range(digits):\n",
    "        base    = NumberToBase(number % 4)\n",
    "        pattern = base + pattern\n",
    "        number  = number // 4\n",
    "    return(pattern)\n",
    "        "
   ]
  },
  {
   "cell_type": "code",
   "execution_count": null,
   "metadata": {},
   "outputs": [],
   "source": [
    "def ComputingFrequencies(text, k):\n",
    "    FrequencyArray = [0] * (4**k)\n",
    "    \n",
    "    for start in range(len(text) - k +1):\n",
    "        end               = start + k\n",
    "        j                 = PatternToNumber(text[start:end])\n",
    "        FrequencyArray[j] = FrequencyArray[j] + 1\n",
    "    \n",
    "    return (FrequencyArray)"
   ]
  },
  {
   "cell_type": "code",
   "execution_count": null,
   "metadata": {},
   "outputs": [],
   "source": [
    "def FasterFrequentWords(text, k):\n",
    "    FrequentPatterns = []\n",
    "    FrequencyArray   = ComputingFrequencies(text, k)\n",
    "    maxCount         = max(FrequencyArray)\n",
    "    \n",
    "    for i, count in enumerate(FrequencyArray):\n",
    "        if count == maxCount:\n",
    "            pattern = NumberToPattern(i, k)\n",
    "            FrequentPatterns.append(pattern)\n",
    "            \n",
    "    return (FrequentPatterns)"
   ]
  },
  {
   "cell_type": "code",
   "execution_count": null,
   "metadata": {},
   "outputs": [],
   "source": [
    "def BetterClumpFinding(genome, k, t, L):\n",
    "    FrequentPatterns   = []\n",
    "    FrequencyArray_all = [0] * (4 ** k)\n",
    "    text               = genome[0: L]\n",
    "    FrequencyArray     = ComputingFrequencies(text, k)\n",
    "    for i in range(4 ** k):\n",
    "        if FrequencyArray[i] >= t:\n",
    "            FrequencyArray_all = 1\n",
    "    for i in range(0, len(genome) - L +1):\n",
    "        FirstPattern          = genome[i: k + i]\n",
    "        index                 = PatternToNumber(FirstPattern)\n",
    "        FrequencyArray[index] = FrequencyArray[index] - 1\n",
    "        LastPattern           = genome[i + L - k: i + L]\n",
    "        index                 = PatternToNumber(LastPattern)\n",
    "        FrequencyArray[index] = FrequencyArray[index] + 1\n",
    "        if FrequencyArray[index] >= t:\n",
    "            FrequencyArray_all[index] =1\n",
    "    for i in range(4 ** k):\n",
    "        if FrequencyArray_all[i] == 1:\n",
    "            pattern = NumberToPattern(i, k)\n",
    "            FrequentPatterns.append(pattern)\n",
    "    return (FrequentPatterns)"
   ]
  }
 ],
 "metadata": {
  "kernelspec": {
   "display_name": "Python 3",
   "language": "python",
   "name": "python3"
  },
  "language_info": {
   "codemirror_mode": {
    "name": "ipython",
    "version": 3
   },
   "file_extension": ".py",
   "mimetype": "text/x-python",
   "name": "python",
   "nbconvert_exporter": "python",
   "pygments_lexer": "ipython3",
   "version": "3.6.3"
  }
 },
 "nbformat": 4,
 "nbformat_minor": 2
}
