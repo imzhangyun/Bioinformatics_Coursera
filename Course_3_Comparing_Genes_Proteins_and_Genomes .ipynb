{
 "cells": [
  {
   "cell_type": "code",
   "execution_count": 1,
   "metadata": {},
   "outputs": [],
   "source": [
    "import numpy as np"
   ]
  },
  {
   "cell_type": "markdown",
   "metadata": {},
   "source": [
    "# Week 1"
   ]
  },
  {
   "cell_type": "code",
   "execution_count": 2,
   "metadata": {},
   "outputs": [
    {
     "data": {
      "text/plain": [
       "966"
      ]
     },
     "execution_count": 2,
     "metadata": {},
     "output_type": "execute_result"
    }
   ],
   "source": [
    "'''\n",
    "Code Challenge: Solve the Change Problem. The DPChange pseudocode is reproduced below for your convenience.\n",
    "Input: An integer money and an array Coins = (coin1, ..., coind).\n",
    "Output: The minimum number of coins with denominations Coins that changes money.\n",
    "'''\n",
    "\n",
    "def DPChange(money, coins):\n",
    "    if type(coins) == str:\n",
    "        coins = coins.split(',')\n",
    "    coins = list(map(int, coins))\n",
    "    \n",
    "    min_count    = [float('Inf')] * (money + 1)\n",
    "    min_count[0] = 0\n",
    "    \n",
    "    for m in range(1, (money + 1)):\n",
    "        for coin in coins:\n",
    "            if m >= coin:\n",
    "                if min_count[m - coin] + 1 < min_count[m]:\n",
    "                    min_count[m] = min_count[m - coin] + 1\n",
    "    return(min_count[money])\n",
    "    \n",
    "# Test\n",
    "money = 17373\n",
    "coins = '18,5,3,1'\n",
    "\n",
    "DPChange(money, coins)"
   ]
  },
  {
   "cell_type": "code",
   "execution_count": 3,
   "metadata": {},
   "outputs": [
    {
     "data": {
      "text/plain": [
       "34"
      ]
     },
     "execution_count": 3,
     "metadata": {},
     "output_type": "execute_result"
    }
   ],
   "source": [
    "'''\n",
    "Code Challenge: Find the length of a longest path in the Manhattan Tourist Problem.\n",
    "Input: Integers n and m, followed by an n × (m + 1) matrix Down and an (n + 1) × m matrix Right.\n",
    "Output: The length of a longest path from source (0, 0) to sink (n, m) in the n × m rectangular grid whose edges are defined by the matrices Down and Right.\n",
    "'''\n",
    "\n",
    "def ManhattanTourist(n, m, down, right):\n",
    "    # reformat down and right matrix\n",
    "    if type(down) == str:\n",
    "        down = down.split('\\n')\n",
    "        for i in range(len(down)):\n",
    "            down[i] = down[i].split(' ')\n",
    "        down = np.array(down).reshape(n, m + 1)\n",
    "    down = down.astype(int)\n",
    "    \n",
    "    if type(right) == str:\n",
    "        right = right.split('\\n')\n",
    "        for i in range(len(right)):\n",
    "            right[i] = right[i].split(' ')\n",
    "        right = np.array(right).reshape(n + 1, m)\n",
    "    right = right.astype(int)\n",
    "    \n",
    "    # initalize matrix\n",
    "    matrix = np.zeros((n + 1, m + 1))\n",
    "    for i in range(1, n + 1):\n",
    "        matrix[i, 0] = matrix[i - 1, 0] + down[i - 1, 0]\n",
    "    for j in range(1, m + 1):\n",
    "        matrix[0, j] = matrix[0, j - 1] + right[0, j - 1]\n",
    "    \n",
    "    # fill matrix\n",
    "    for i in range(1, n + 1):\n",
    "        for j in range(1, m + 1):\n",
    "            matrix[i, j] = max(matrix[i - 1, j] + down[i - 1, j],\n",
    "                               matrix[i, j - 1] + right[i, j - 1])\n",
    "            \n",
    "    return(int(matrix[n, m]))\n",
    "\n",
    "# Test\n",
    "n = 4\n",
    "m = 4\n",
    "down = '''1 0 2 4 3\n",
    "4 6 5 2 1\n",
    "4 4 5 2 1\n",
    "5 6 8 5 3'''\n",
    "\n",
    "right = '''3 2 4 0\n",
    "3 2 4 2\n",
    "0 7 3 3\n",
    "3 3 0 2\n",
    "1 3 2 2'''\n",
    "\n",
    "ManhattanTourist(n, m, down, right)"
   ]
  },
  {
   "cell_type": "code",
   "execution_count": 4,
   "metadata": {},
   "outputs": [
    {
     "data": {
      "text/plain": [
       "'AACTTG'"
      ]
     },
     "execution_count": 4,
     "metadata": {},
     "output_type": "execute_result"
    }
   ],
   "source": [
    "\"\"\"\n",
    "Code Challenge: Use OutputLCS (reproduced below) to solve the Longest Common Subsequence Problem.\n",
    "Input: Two strings s and t.\n",
    "Output: A longest common subsequence of s and t.\n",
    "\"\"\"\n",
    "\n",
    "def LCSBackTrack(v, w):\n",
    "    \n",
    "    matrix = np.zeros((len(v) + 1, len(w) + 1))\n",
    "    backtrack = np.zeros((len(v) + 1, len(w) + 1), '<U32')\n",
    "    for i in range(1, (len(v) + 1)):\n",
    "        for j in range(1, (len(w) + 1)):\n",
    "            if v[i - 1] == w[j - 1]:\n",
    "                 match = 1\n",
    "            else:\n",
    "                 match = 0\n",
    "            matrix[i, j] = max(matrix[i - 1, j], matrix[i, j - 1], matrix[ i - 1, j - 1] + match)\n",
    "            \n",
    "            if matrix[i, j] == matrix[i - 1, j]:\n",
    "                backtrack[i, j] = 'down'\n",
    "            elif matrix[i, j] == matrix[i, j - 1]:\n",
    "                backtrack[i, j] = 'right'\n",
    "            elif (matrix[i, j] == matrix[i - 1, j - 1] + 1) & (v[i - 1] == w[j - 1]):\n",
    "                backtrack[i, j] = 'diagonal'\n",
    "    return(backtrack)\n",
    "\n",
    "def OutputLCS(backtrack, v, i, j, longest_string):\n",
    "    if (i == 0)|(j == 0):\n",
    "        return\n",
    "    if backtrack[i, j] == 'down':\n",
    "        OutputLCS(backtrack, v, i - 1, j, longest_string)\n",
    "    elif backtrack[i, j] == 'right':\n",
    "        OutputLCS(backtrack, v, i, j - 1, longest_string)\n",
    "    else:\n",
    "        OutputLCS(backtrack, v, i - 1, j - 1, longest_string)\n",
    "        longest_string.append(v[i - 1])\n",
    "\n",
    "def LongestCommonSubsequence(v, w):\n",
    "    backtrack = LCSBackTrack(v, w)\n",
    "    i = len(v) \n",
    "    j = len(w) \n",
    "    longest_string = []\n",
    "    \n",
    "    OutputLCS(backtrack, v, i, j, longest_string)\n",
    "    \n",
    "    longest_string = ''.join(longest_string)\n",
    "    \n",
    "    return(longest_string)\n",
    "\n",
    "# Test\n",
    "v = 'AACCTTGG'\n",
    "w = 'ACACTGTGA'\n",
    "\n",
    "LongestCommonSubsequence(v, w)"
   ]
  },
  {
   "cell_type": "code",
   "execution_count": 5,
   "metadata": {},
   "outputs": [
    {
     "data": {
      "text/plain": [
       "(9, '0->2->3->4')"
      ]
     },
     "execution_count": 5,
     "metadata": {},
     "output_type": "execute_result"
    }
   ],
   "source": [
    "'''\n",
    "Code Challenge: Solve the Longest Path in a DAG Problem.\n",
    "Input: An integer representing the starting node to consider in a graph, followed by an integer representing the ending node to \n",
    "    consider, followed by a list of edges in the graph. The edge notation \"0->1:7\" indicates that an edge connects node 0 to node 1\n",
    "    with weight 7.  You may assume a given topological order corresponding to nodes in increasing order.\n",
    "Output: The length of a longest path in the graph, followed by a longest path. \n",
    "'''\n",
    "\n",
    "def GraphString2Dict(graph):\n",
    "    graph = graph.split('\\n')\n",
    "    graph_dict   = {}\n",
    "    graph_weight = {}\n",
    "    \n",
    "    for path in graph:\n",
    "        from_, to_    = path.split('->')\n",
    "        to_, weight = to_.split(':')\n",
    "        graph_weight[''.join([from_,'->',to_])] = int(weight)\n",
    "        if from_ in graph_dict:\n",
    "            graph_dict[from_].append(to_)\n",
    "        else:\n",
    "            graph_dict[from_]=[to_]\n",
    "    \n",
    "    return(graph_dict,graph_weight)\n",
    "\n",
    "def Longest_Path(start_point, end_point, graph):\n",
    "    start_point, end_point = str(start_point), str(end_point)\n",
    "    graph, graph_weight    = GraphString2Dict(graph)\n",
    "    \n",
    "    longest_path = []\n",
    "    score_list   = [0] * 100\n",
    "    track_back   = ['000'] * 100\n",
    "    froms        = [start_point]\n",
    "\n",
    "    while len(froms) != 0:\n",
    "        next_from = []\n",
    "        for from_ in froms:\n",
    "            tos = graph[from_]\n",
    "            for to in tos:\n",
    "                graph_key = from_ + '->' + to\n",
    "                score_list[int(to)] = max(score_list[int(to)], score_list[int(from_)] + graph_weight[graph_key])\n",
    "                if score_list[int(to)] == (score_list[int(from_)] + graph_weight[graph_key]):\n",
    "                    track_back[int(to)] = from_\n",
    "                if to in graph:\n",
    "                    next_from.append(to)\n",
    "            froms = next_from\n",
    "    \n",
    "    to = end_point\n",
    "    longest_path.append(end_point)\n",
    "    \n",
    "    while to != start_point:\n",
    "        from_ = track_back[int(to)]\n",
    "        longest_path.append(from_)\n",
    "        to    = from_\n",
    "        \n",
    "    longest_path = '->'.join(longest_path[::-1])\n",
    "    \n",
    "    return(score_list[int(end_point)],longest_path)\n",
    "\n",
    "# Test\n",
    "start_point = 0\n",
    "end_point   = 4\n",
    "graph = '''0->1:7\n",
    "0->2:4\n",
    "2->3:2\n",
    "1->4:1\n",
    "3->4:3'''\n",
    "\n",
    "Longest_Path(start_point, end_point, graph)"
   ]
  }
 ],
 "metadata": {
  "kernelspec": {
   "display_name": "Python 3",
   "language": "python",
   "name": "python3"
  },
  "language_info": {
   "codemirror_mode": {
    "name": "ipython",
    "version": 3
   },
   "file_extension": ".py",
   "mimetype": "text/x-python",
   "name": "python",
   "nbconvert_exporter": "python",
   "pygments_lexer": "ipython3",
   "version": "3.6.3"
  }
 },
 "nbformat": 4,
 "nbformat_minor": 2
}
