{
 "cells": [
  {
   "cell_type": "code",
   "execution_count": 1,
   "metadata": {},
   "outputs": [],
   "source": [
    "import random\n",
    "import numpy as np\n",
    "from collections import Counter"
   ]
  },
  {
   "cell_type": "markdown",
   "metadata": {},
   "source": [
    "# Week 1"
   ]
  },
  {
   "cell_type": "code",
   "execution_count": 2,
   "metadata": {},
   "outputs": [
    {
     "name": "stdout",
     "output_type": "stream",
     "text": [
      "2\n"
     ]
    }
   ],
   "source": [
    "'''\n",
    "Code Challenge: Implement PatternCount (reproduced below).\n",
    "Input: Strings Text and Pattern.\n",
    "Output: Count(Text, Pattern).\n",
    "'''\n",
    "\n",
    "def PatternCount(text, pattern):\n",
    "    count = 0\n",
    "    for start in range(len(text) - len(pattern) + 1):\n",
    "        end = start + len(pattern)\n",
    "        if pattern == text[start: end]:\n",
    "            count = count + 1\n",
    "    return(count)\n",
    "\n",
    "# Test\n",
    "text    = 'GCGCG'\n",
    "pattern = 'GCG'\n",
    "\n",
    "print(PatternCount(text, pattern))"
   ]
  },
  {
   "cell_type": "code",
   "execution_count": 3,
   "metadata": {},
   "outputs": [
    {
     "name": "stdout",
     "output_type": "stream",
     "text": [
      "GCAT\n",
      "CATG\n"
     ]
    }
   ],
   "source": [
    "'''\n",
    "Code Challenge: Solve the Frequent Words Problem.\n",
    "Input: A string Text and an integer k.\n",
    "Output: All most frequent k-mers in Text.\n",
    "'''\n",
    "\n",
    "def FrequentWords(text, k):\n",
    "    sub_texts = set()\n",
    "    for start in range(len(text) - k + 1):\n",
    "        end = start + k\n",
    "        sub_texts.add(text[start: end])\n",
    "        \n",
    "    counts = {}\n",
    "    for sub_text in sub_texts:\n",
    "        counts [sub_text] = PatternCount(text, sub_text)\n",
    "        \n",
    "    max_count = max(counts.values())\n",
    "    \n",
    "    for count in counts:\n",
    "        if counts[count] == max_count:\n",
    "            print(count)\n",
    "\n",
    "# Test      \n",
    "text = 'ACGTTGCATGTCGCATGATGCATGAGAGCT'\n",
    "k    = 4\n",
    "\n",
    "FrequentWords(text, k)"
   ]
  },
  {
   "cell_type": "code",
   "execution_count": 4,
   "metadata": {},
   "outputs": [
    {
     "name": "stdout",
     "output_type": "stream",
     "text": [
      "ACCGGGTTTT\n"
     ]
    }
   ],
   "source": [
    "'''\n",
    "Reverse Complement Problem: Find the reverse complement of a DNA string.\n",
    "Input: A DNA string Pattern.\n",
    "Output: Pattern_rc , the reverse complement of Pattern.\n",
    "'''\n",
    "\n",
    "def ReverseComplement(text):\n",
    "    complementry_rule = {\n",
    "        'A' : 'T',\n",
    "        'T' : 'A',\n",
    "        'C' : 'G',\n",
    "        'G' : 'C' \n",
    "    }\n",
    "    \n",
    "    com_text = ''\n",
    "    for base in text:\n",
    "        com_text = com_text + complementry_rule[base]\n",
    "    \n",
    "    com_text = com_text[::-1]\n",
    "    \n",
    "    return (com_text)\n",
    "\n",
    "# Test\n",
    "text = 'AAAACCCGGT'\n",
    "\n",
    "print(ReverseComplement(text))"
   ]
  },
  {
   "cell_type": "code",
   "execution_count": 5,
   "metadata": {},
   "outputs": [
    {
     "name": "stdout",
     "output_type": "stream",
     "text": [
      "[1, 3, 9]\n"
     ]
    }
   ],
   "source": [
    "'''\n",
    "Code Challenge: Solve the Pattern Matching Problem.\n",
    "Input: Two strings, Pattern and Genome.\n",
    "Output: A collection of space-separated integers specifying all starting positions where Pattern appears as a substring of Genome.\n",
    "'''\n",
    "\n",
    "def PatternMatching(pattern, genome):\n",
    "    positions = []\n",
    "    for start in range(len(genome) - len(pattern) + 1):\n",
    "        end = start + len(pattern)\n",
    "        if pattern == genome[start: end]:\n",
    "            positions.append(start)\n",
    "    return(positions)\n",
    "\n",
    "# Test\n",
    "pattern = 'ATAT'\n",
    "genome  = 'GATATATGCATATACTT'\n",
    "\n",
    "print(PatternMatching(pattern, genome))"
   ]
  },
  {
   "cell_type": "code",
   "execution_count": 6,
   "metadata": {},
   "outputs": [
    {
     "name": "stdout",
     "output_type": "stream",
     "text": [
      "['CGACA', 'GAAGA']\n"
     ]
    }
   ],
   "source": [
    "'''\n",
    "Code Challenge: Solve the Clump Finding Problem (restated below). You will need to make sure that your algorithm is efficient enough to handle a large dataset.\n",
    "\n",
    "Clump Finding Problem: Find patterns forming clumps in a string.\n",
    "Input: A string Genome, and integers k, L, and t.\n",
    "Output: All distinct k-mers forming (L, t)-clumps in Genome.\n",
    "'''\n",
    "\n",
    "def ClumpFinding(genome, k, L, t):\n",
    "    patterns_positions={}\n",
    "    \n",
    "    for start in range(len(genome) - k +1):\n",
    "        end = start + k\n",
    "        pattern = genome[start: end]\n",
    "        if pattern in patterns_positions:\n",
    "            patterns_positions[pattern].append(start)\n",
    "        else:\n",
    "            patterns_positions[pattern] = [start]\n",
    "            \n",
    "    qualified_patterns = []        \n",
    "    for pattern, positions in patterns_positions.items():\n",
    "        if len(positions) >= t:\n",
    "            for position in positions:\n",
    "                count = sum((np.array(positions) >= position) &\n",
    "                      (np.array(positions) <= position + L))\n",
    "                if count == t:\n",
    "                    qualified_patterns.append(pattern)\n",
    "                    break\n",
    "    return(qualified_patterns)\n",
    "\n",
    "# Test\n",
    "genome = 'CGGACTCGACAGATGTGAAGAACGACAATGTGAAGACTCGACACGACAGAGTGAAGAGAAGAGGAAACATTGTAA'\n",
    "k      = 5 \n",
    "L      = 50\n",
    "t      = 4\n",
    "\n",
    "print(ClumpFinding(genome, k, L, t))"
   ]
  },
  {
   "cell_type": "code",
   "execution_count": 7,
   "metadata": {},
   "outputs": [
    {
     "name": "stdout",
     "output_type": "stream",
     "text": [
      "11\n"
     ]
    }
   ],
   "source": [
    "'''\n",
    "Code Challenge: Implement PatternToNumber.\n",
    "Input: A DNA string Pattern.\n",
    "Output: The integer PatternToNumber(Pattern).\n",
    "'''\n",
    "\n",
    "def PatternToNumber(pattern):\n",
    "    if   pattern == 'A': return(0)\n",
    "    elif pattern == 'C': return(1)\n",
    "    elif pattern == 'G': return(2)\n",
    "    elif pattern == 'T': return(3)\n",
    "    else:\n",
    "        number = PatternToNumber(pattern[:-1])*4 + PatternToNumber(pattern[-1])\n",
    "        return(number)\n",
    "\n",
    "# Test\n",
    "pattern = 'AGT'\n",
    "\n",
    "print(PatternToNumber(pattern))"
   ]
  },
  {
   "cell_type": "code",
   "execution_count": 8,
   "metadata": {},
   "outputs": [
    {
     "name": "stdout",
     "output_type": "stream",
     "text": [
      "AGTC\n"
     ]
    }
   ],
   "source": [
    "'''\n",
    "CODE CHALLENGE: Implement NumberToPattern.\n",
    "Input: Integers index and k.\n",
    "Output: The string NumberToPattern(index, k).\n",
    "'''\n",
    "\n",
    "def NumberToBase(number):\n",
    "    if   number == 0: \n",
    "        return('A')\n",
    "    elif number == 1: \n",
    "        return('C')\n",
    "    elif number == 2: \n",
    "        return('G')\n",
    "    elif number == 3:\n",
    "        return('T')\n",
    "\n",
    "def NumberToPattern(number, digits):\n",
    "    pattern = ''\n",
    "    for i in range(digits):\n",
    "        base    = NumberToBase(number % 4)\n",
    "        pattern = base + pattern\n",
    "        number  = number // 4\n",
    "    return(pattern)\n",
    "        \n",
    "# Test\n",
    "number = 45\n",
    "digits = 4\n",
    "\n",
    "print(NumberToPattern(number, digits))"
   ]
  },
  {
   "cell_type": "code",
   "execution_count": 9,
   "metadata": {},
   "outputs": [
    {
     "name": "stdout",
     "output_type": "stream",
     "text": [
      "[2, 1, 0, 0, 0, 0, 2, 2, 1, 2, 1, 0, 0, 1, 1, 0]\n"
     ]
    }
   ],
   "source": [
    "'''\n",
    "Code Challenge: Implement ComputingFrequencies to generate a frequency array.\n",
    "Input: A DNA string Text followed by an integer k.\n",
    "Output: FrequencyArray(Text).\n",
    "'''\n",
    "\n",
    "def ComputingFrequencies(text, k):\n",
    "    FrequencyArray = [0] * (4**k)\n",
    "    \n",
    "    for start in range(len(text) - k +1):\n",
    "        end               = start + k\n",
    "        j                 = PatternToNumber(text[start:end])\n",
    "        FrequencyArray[j] = FrequencyArray[j] + 1\n",
    "    \n",
    "    return (FrequencyArray)\n",
    "\n",
    "# Test\n",
    "text = 'ACGCGGCTCTGAAA'\n",
    "k    = 2\n",
    "\n",
    "print(ComputingFrequencies(text, k))"
   ]
  },
  {
   "cell_type": "code",
   "execution_count": 10,
   "metadata": {},
   "outputs": [],
   "source": [
    "def FasterFrequentWords(text, k):\n",
    "    FrequentPatterns = []\n",
    "    FrequencyArray   = ComputingFrequencies(text, k)\n",
    "    maxCount         = max(FrequencyArray)\n",
    "    \n",
    "    for i, count in enumerate(FrequencyArray):\n",
    "        if count == maxCount:\n",
    "            pattern = NumberToPattern(i, k)\n",
    "            FrequentPatterns.append(pattern)\n",
    "            \n",
    "    return (FrequentPatterns)"
   ]
  },
  {
   "cell_type": "code",
   "execution_count": 11,
   "metadata": {},
   "outputs": [],
   "source": [
    "def BetterClumpFinding(genome, k, t, L):\n",
    "    FrequentPatterns   = []\n",
    "    FrequencyArray_all = [0] * (4 ** k)\n",
    "    text               = genome[0: L]\n",
    "    FrequencyArray     = ComputingFrequencies(text, k)\n",
    "    for i in range(4 ** k):\n",
    "        if FrequencyArray[i] >= t:\n",
    "            FrequencyArray_all = 1\n",
    "    for i in range(0, len(genome) - L +1):\n",
    "        FirstPattern          = genome[i: k + i]\n",
    "        index                 = PatternToNumber(FirstPattern)\n",
    "        FrequencyArray[index] = FrequencyArray[index] - 1\n",
    "        LastPattern           = genome[i + L - k: i + L]\n",
    "        index                 = PatternToNumber(LastPattern)\n",
    "        FrequencyArray[index] = FrequencyArray[index] + 1\n",
    "        if FrequencyArray[index] >= t:\n",
    "            FrequencyArray_all[index] =1\n",
    "    for i in range(4 ** k):\n",
    "        if FrequencyArray_all[i] == 1:\n",
    "            pattern = NumberToPattern(i, k)\n",
    "            FrequentPatterns.append(pattern)\n",
    "    return (FrequentPatterns)"
   ]
  },
  {
   "cell_type": "markdown",
   "metadata": {},
   "source": [
    "# Week 2"
   ]
  },
  {
   "cell_type": "code",
   "execution_count": 12,
   "metadata": {},
   "outputs": [
    {
     "name": "stdout",
     "output_type": "stream",
     "text": [
      "[11, 24]\n"
     ]
    }
   ],
   "source": [
    "'''\n",
    "Minimum Skew Problem: Find a position in a genome where the skew diagram attains a minimum.\n",
    "Input: A DNA string Genome.\n",
    "Output: All integer(s) i minimizing Skewi (Genome) among all values of i (from 0 to |Genome|).\n",
    "'''\n",
    "\n",
    "def MinimumSkew(Genome):\n",
    "    \n",
    "    scores = [0]\n",
    "    for base in Genome:\n",
    "        if   base == 'C': scores.append(scores[-1] - 1)\n",
    "        elif base == 'G': scores.append(scores[-1] + 1)\n",
    "        else :            scores.append(scores[-1])\n",
    "            \n",
    "    scores    = np.array(scores)\n",
    "    min_index = list(np.where(scores == min(scores))[0])\n",
    "    return(min_index)\n",
    "\n",
    "# Test\n",
    "Genome = 'TAAAGACTGCCGAGAGGCCAACACGAGTGCTAGAACGAGGGGCGTAAACGCGGGTCCGAT'\n",
    "\n",
    "print(MinimumSkew(Genome))"
   ]
  },
  {
   "cell_type": "code",
   "execution_count": 13,
   "metadata": {},
   "outputs": [
    {
     "name": "stdout",
     "output_type": "stream",
     "text": [
      "3\n"
     ]
    }
   ],
   "source": [
    "'''\n",
    "Hamming Distance Problem: Compute the Hamming distance between two strings.\n",
    "Input: Two strings of equal length.\n",
    "Output: The Hamming distance between these strings.\n",
    "'''\n",
    "\n",
    "def HammingDistance(string1, string2):\n",
    "    mismatch = 0\n",
    "    for base1, base2 in zip (string1, string2):\n",
    "        if base1 != base2: \n",
    "            mismatch = mismatch + 1\n",
    "    return (mismatch)\n",
    "\n",
    "# Test\n",
    "string1 = 'GGGCCGTTGGT'\n",
    "string2 = 'GGACCGTTGAC'\n",
    "\n",
    "print(HammingDistance(string1, string2))"
   ]
  },
  {
   "cell_type": "code",
   "execution_count": 14,
   "metadata": {},
   "outputs": [
    {
     "name": "stdout",
     "output_type": "stream",
     "text": [
      "[6, 7, 26, 27]\n"
     ]
    }
   ],
   "source": [
    "'''\n",
    "Approximate Pattern Matching Problem: Find all approximate occurrences of a pattern in a string.\n",
    "Input: Strings Pattern and Text along with an integer d.\n",
    "Output: All starting positions where Pattern appears as a substring of Text with at most d mismatches.\n",
    "'''\n",
    "\n",
    "def ApproximatePatternMatching(Text, Pattern, d):\n",
    "    positions   = []\n",
    "    pattern_len = len(Pattern)\n",
    "    \n",
    "    for start in range(len(Text) - pattern_len + 1):\n",
    "        end = start + pattern_len\n",
    "        \n",
    "        if HammingDistance(Pattern, Text[start: end]) <= d:\n",
    "            positions.append(start)\n",
    "            \n",
    "    return (positions)\n",
    "\n",
    "# Test\n",
    "Pattern = 'ATTCTGGA'\n",
    "Text    = 'CGCCCGAATCCAGAACGCATTCCCATATTTCGGGACCACTGGCCTCCACGGTACGGACGTCAATCAAAT'\n",
    "d       = 3\n",
    "\n",
    "print(ApproximatePatternMatching(Text, Pattern, d))"
   ]
  },
  {
   "cell_type": "code",
   "execution_count": 15,
   "metadata": {},
   "outputs": [
    {
     "name": "stdout",
     "output_type": "stream",
     "text": [
      "4\n"
     ]
    }
   ],
   "source": [
    "'''\n",
    "Code Challenge: Implement ApproximatePatternCount.\n",
    "Input: Strings Pattern and Text as well as an integer d.\n",
    "Output: Countd(Text, Pattern).\n",
    "'''\n",
    "\n",
    "def ApproximatePatternCount(text, pattern, d):\n",
    "    count = 0\n",
    "    for start in range(len(text) - len(pattern) + 1):\n",
    "        end = start + len(pattern)\n",
    "        if HammingDistance(pattern, text[start: end]) <= d:\n",
    "            count = count + 1\n",
    "            \n",
    "    return(count)\n",
    "\n",
    "# Test\n",
    "pattern = 'GAGG'\n",
    "text    = 'TTTAGAGCCTTCAGAGG'\n",
    "d       = 2\n",
    "\n",
    "print(ApproximatePatternCount(text, pattern, d))"
   ]
  },
  {
   "cell_type": "code",
   "execution_count": 16,
   "metadata": {},
   "outputs": [
    {
     "name": "stdout",
     "output_type": "stream",
     "text": [
      "['ACA', 'ACC', 'AAG', 'ACG', 'CCG', 'GCG', 'TCG', 'AGG', 'ATG', 'ACT']\n"
     ]
    }
   ],
   "source": [
    "'''\n",
    "Code Challenge: Implement Neighbors to find the d-neighborhood of a string.\n",
    "Input: A string Pattern and an integer d.\n",
    "Output: The collection of strings Neighbors(Pattern, d). \n",
    "'''\n",
    "\n",
    "def ImmediateNeighbors(pattern):    \n",
    "    bases     = ['A', 'C', 'G', 'T']\n",
    "    neighbors = []\n",
    "    \n",
    "    for i in range(len(pattern)):\n",
    "        other_bases = bases.copy()\n",
    "        other_bases.remove(pattern[i])\n",
    "        \n",
    "        for base in other_bases:\n",
    "            neighbor    = list(pattern)\n",
    "            neighbor[i] = base\n",
    "            neighbor    = ''.join(neighbor)\n",
    "            neighbors.append(neighbor)\n",
    "    \n",
    "    return(neighbors)\n",
    "\n",
    "\n",
    "def Neighbors(pattern, d):\n",
    "    bases     = ['A', 'C', 'G', 'T']\n",
    "    \n",
    "    if d == 0:\n",
    "        return (pattern)\n",
    "    if len(pattern) == 1:\n",
    "        return (bases)\n",
    "\n",
    "    neighbors       = []\n",
    "    suffixNeighbors = Neighbors(pattern[1:], d)\n",
    "    for text in suffixNeighbors:\n",
    "        if HammingDistance(pattern[1:], text) < d:\n",
    "            for base in bases:\n",
    "                neighbors.append(base + text)\n",
    "        else :\n",
    "            neighbors.append(pattern[0] + text)\n",
    "    return(neighbors)\n",
    "\n",
    "# Test\n",
    "pattern = 'ACG'\n",
    "d       = 1\n",
    "\n",
    "print(Neighbors(pattern, d))"
   ]
  },
  {
   "cell_type": "code",
   "execution_count": 17,
   "metadata": {},
   "outputs": [
    {
     "name": "stdout",
     "output_type": "stream",
     "text": [
      "['ATGC', 'ATGT', 'GATG']\n"
     ]
    }
   ],
   "source": [
    "'''\n",
    "Frequent Words with Mismatches Problem: Find the most frequent k-mers with mismatches in a string.\n",
    "Input: A string Text as well as integers k and d. (You may assume k ≤ 12 and d ≤ 3.)\n",
    "Output: All most frequent k-mers with up to d mismatches in Text.\n",
    "'''\n",
    "\n",
    "def ComputingFrequenciesWithMismatches(text, k, d):\n",
    "    FrequencyArray = [0] * (4 ** k)\n",
    "    neighborhoods  = []\n",
    "    for start in range(len(text) - k + 1):\n",
    "        end          = start + k\n",
    "        pattern      = text[start: end]\n",
    "        neighborhood = Neighbors(pattern, d)\n",
    "        if type(neighborhood) == str:\n",
    "            neighborhoods.append(neighborhood)\n",
    "        else:\n",
    "            neighborhoods.extend(neighborhood)\n",
    "\n",
    "    for string in neighborhoods:\n",
    "        j                 = PatternToNumber(string)\n",
    "        FrequencyArray[j] = FrequencyArray[j] + 1\n",
    "    \n",
    "    return (FrequencyArray)\n",
    "\n",
    "def FrequentWordsWithMismatches(text, k, d):\n",
    "    FrequencyPatterns = []\n",
    "    FrequencyArray    = np.array(ComputingFrequenciesWithMismatches(text, k, d))\n",
    "    max_frequency     = max(FrequencyArray)\n",
    "    max_index         = list(np.where(FrequencyArray == max_frequency)[0])\n",
    "\n",
    "    for index in max_index:\n",
    "        FrequencyPatterns.append(NumberToPattern(index, k))\n",
    "    \n",
    "    return (FrequencyPatterns)\n",
    "\n",
    "# Test\n",
    "text = 'ACGTTGCATGTCGCATGATGCATGAGAGCT'\n",
    "k    = 4 \n",
    "d    = 1\n",
    "\n",
    "print(FrequentWordsWithMismatches(text, k, d))"
   ]
  },
  {
   "cell_type": "code",
   "execution_count": 18,
   "metadata": {},
   "outputs": [
    {
     "name": "stdout",
     "output_type": "stream",
     "text": [
      "['ACAT', 'ATGT']\n"
     ]
    }
   ],
   "source": [
    "'''\n",
    "Frequent Words with Mismatches and Reverse Complements Problem: Find the most frequent k-mers (with mismatches and reverse complements) in a string.\n",
    "Input: A DNA string Text as well as integers k and d.\n",
    "Output: All k-mers Pattern maximizing the sum Countd(Text, Pattern)+ Countd(Text, Patternrc) over all possible k-mers.\n",
    "'''\n",
    "\n",
    "def FrequentWordsWithMismatchesAndReverseComplements(text, k, d):\n",
    "    FrequencyPatterns = []\n",
    "    FrequencyArray    = np.array(ComputingFrequenciesWithMismatches(text, k, d))\n",
    "    R_FrequencyArray  = np.array(ComputingFrequenciesWithMismatches(ReverseComplement(text), k, d))\n",
    "    FrequencyArray    = FrequencyArray + R_FrequencyArray\n",
    "    max_frequency     = max(FrequencyArray)\n",
    "    max_index         = list(np.where(FrequencyArray == max_frequency)[0])\n",
    "\n",
    "    for index in max_index:\n",
    "        FrequencyPatterns.append(NumberToPattern(index, k))\n",
    "        \n",
    "    return (FrequencyPatterns)\n",
    "\n",
    "# Test\n",
    "text = 'ACGTTGCATGTCGCATGATGCATGAGAGCT'\n",
    "k    = 4 \n",
    "d    = 1\n",
    "\n",
    "print(FrequentWordsWithMismatchesAndReverseComplements(text, k, d))"
   ]
  },
  {
   "cell_type": "markdown",
   "metadata": {},
   "source": [
    "# Week 3"
   ]
  },
  {
   "cell_type": "code",
   "execution_count": 19,
   "metadata": {},
   "outputs": [
    {
     "name": "stdout",
     "output_type": "stream",
     "text": [
      "['GTT', 'TTT', 'ATT', 'ATA']\n"
     ]
    }
   ],
   "source": [
    "'''\n",
    "Code Challenge: Implement MotifEnumeration.\n",
    "Input: Integers k and d, followed by a collection of strings Dna.\n",
    "Output: All (k, d)-motifs in Dna.\n",
    "'''\n",
    "\n",
    "def MotifEnumeration(Dnas, k, d):\n",
    "    Dnas = Dnas.split(\" \") \n",
    "    patterns     = []\n",
    "    patterns_all = []\n",
    "    for text in Dnas:\n",
    "        patterns_text = []\n",
    "        for start in range(len(text) - k + 1):\n",
    "            end     = start + k\n",
    "            pattern = list(text[start: end])\n",
    "            patterns_text.extend(Neighbors(pattern, d)) \n",
    "            \n",
    "        patterns_text = list(set(patterns_text))\n",
    "        patterns_all.extend(patterns_text)\n",
    "        \n",
    "    patterns_count = Counter(patterns_all)\n",
    "    for pattern, count in patterns_count.items():\n",
    "        if count == len(Dnas):\n",
    "            patterns.append(pattern)\n",
    "            \n",
    "    return (patterns)\n",
    "\n",
    "# Test\n",
    "k    = 3\n",
    "d    = 1\n",
    "Dnas ='ATTTGGC TGCCTTA CGGTATC GAAAATT'\n",
    "\n",
    "print(MotifEnumeration(Dnas, k, d))"
   ]
  },
  {
   "cell_type": "code",
   "execution_count": 20,
   "metadata": {},
   "outputs": [
    {
     "name": "stdout",
     "output_type": "stream",
     "text": [
      "5\n"
     ]
    }
   ],
   "source": [
    "'''\n",
    "Code Challenge: Implement DistanceBetweenPatternAndStrings.\n",
    "Input: A string Pattern followed by a collection of strings Dna.\n",
    "Output: d(Pattern, Dna).\n",
    "'''\n",
    "\n",
    "def DistanceBetweenPatternAndStrings(pattern, dnas):\n",
    "    if type(dnas) == str:\n",
    "        dnas = dnas.split(\" \")\n",
    "        \n",
    "    distance = 0\n",
    "    k        = len(pattern) \n",
    "    \n",
    "    for text in dnas:\n",
    "        H_distance = float('Inf')\n",
    "        for start in range(len(text) - k + 1):\n",
    "            end    = start + k\n",
    "            string = text[start: end]\n",
    "            \n",
    "            if H_distance > HammingDistance(pattern, string):\n",
    "                H_distance = HammingDistance(pattern, string)\n",
    "        distance = distance + H_distance\n",
    "    \n",
    "    return (distance)\n",
    "\n",
    "# Test\n",
    "pattern = 'AAA'\n",
    "dnas    = 'TTACCTTAAC GATATCTGTC ACGGCGTTCG CCCTAAAGAG CGTCAGAGGT'\n",
    "\n",
    "print(DistanceBetweenPatternAndStrings(pattern, dnas))"
   ]
  },
  {
   "cell_type": "code",
   "execution_count": 21,
   "metadata": {},
   "outputs": [
    {
     "name": "stdout",
     "output_type": "stream",
     "text": [
      "GAC\n"
     ]
    }
   ],
   "source": [
    "'''\n",
    "Code Challenge: Implement MedianString.\n",
    "Input: An integer k, followed by a collection of strings Dna.\n",
    "Output: A k-mer Pattern that minimizes d(Pattern, Dna) among all possible choices of k-mers. \n",
    "'''\n",
    "\n",
    "def MedianString(dnas, k):\n",
    "    if type(dnas) == str:\n",
    "        dnas = dnas.split(\" \")\n",
    "        \n",
    "    distance = float('Inf')\n",
    "    \n",
    "    for i in range(4 ** k):\n",
    "        pattern = NumberToPattern(i, k)\n",
    "        \n",
    "        if distance > DistanceBetweenPatternAndStrings(pattern, dnas):\n",
    "            distance = DistanceBetweenPatternAndStrings(pattern, dnas)\n",
    "            median   = pattern\n",
    "            \n",
    "    return(median)\n",
    "\n",
    "# Test\n",
    "k    = 3\n",
    "dnas = 'AAATTGACGCAT GACGACCACGTT CGTCAGCGCCTG GCTGAGCACCGG AGTTCGGGACAG'\n",
    "\n",
    "print(MedianString(dnas, k))"
   ]
  },
  {
   "cell_type": "code",
   "execution_count": 22,
   "metadata": {},
   "outputs": [
    {
     "name": "stdout",
     "output_type": "stream",
     "text": [
      "CCGAG\n"
     ]
    }
   ],
   "source": [
    "'''\n",
    "Profile-most Probable k-mer Problem: Find a Profile-most probable k-mer in a string.\n",
    "Input: A string Text, an integer k, and a 4 × k matrix Profile.\n",
    "Output: A Profile-most probable k-mer in Text.\n",
    "'''\n",
    "\n",
    "def ProfileMostProbableKmer(text, k, profile):\n",
    "    if type(profile) == str:\n",
    "        profile = profile.split(\" \")\n",
    "    profile        = np.array(profile, dtype='f').reshape(4,k)\n",
    "    prob_high      = 0\n",
    "    output_pattern = text[0: k]\n",
    "    \n",
    "    for start in range(len(text) - k + 1):\n",
    "        end      = start + k\n",
    "        pattern  = text[start: end]\n",
    "        prob_pattern = 1\n",
    "        for i in range(k):\n",
    "            if   pattern[i] == 'A': prob_pattern = prob_pattern * profile[0, i]\n",
    "            elif pattern[i] == 'C': prob_pattern = prob_pattern * profile[1, i]\n",
    "            elif pattern[i] == 'G': prob_pattern = prob_pattern * profile[2, i]\n",
    "            elif pattern[i] == 'T': prob_pattern = prob_pattern * profile[3, i]\n",
    "                \n",
    "        if prob_pattern > prob_high:\n",
    "            prob_high      = prob_pattern\n",
    "            output_pattern = pattern\n",
    "            \n",
    "    return (output_pattern)\n",
    "\n",
    "# Test\n",
    "text = 'ACCTGTTTATTGCCTAAGTTCCGAACAAACCCAATATAGCCCGAGGGCCT'\n",
    "k    = 5\n",
    "profile = '0.2 0.2 0.3 0.2 0.3 0.4 0.3 0.1 0.5 0.1 0.3 0.3 0.5 0.2 0.4 0.1 0.2 0.1 0.1 0.2'\n",
    "\n",
    "print(ProfileMostProbableKmer(text, k, profile))"
   ]
  },
  {
   "cell_type": "code",
   "execution_count": 23,
   "metadata": {},
   "outputs": [
    {
     "name": "stdout",
     "output_type": "stream",
     "text": [
      "['TCA', 'TCA', 'CAA', 'TCA', 'TAA']\n"
     ]
    }
   ],
   "source": [
    "'''\n",
    "Code Challenge: Implement GreedyMotifSearch.\n",
    "Input: Integers k and t, followed by a collection of strings Dna.\n",
    "Output: A collection of strings BestMotifs resulting from applying GreedyMotifSearch(Dna, k, t).\n",
    "'''\n",
    "\n",
    "def ProfileMatrix(strings):\n",
    "    strings  = list(strings)\n",
    "    n_string = len(strings)\n",
    "    k        = len(strings[0])\n",
    "    profile  = np.array([0] * 4 * k, dtype='f').reshape(4, k)\n",
    "    \n",
    "    for i in range(k):\n",
    "        base_i = []\n",
    "        for string in strings:\n",
    "            base_i.append(string[i])\n",
    "        count_base    = Counter(base_i)\n",
    "        profile[0, i] = count_base['A'] / n_string\n",
    "        profile[1, i] = count_base['C'] / n_string\n",
    "        profile[2, i] = count_base['G'] / n_string\n",
    "        profile[3, i] = count_base['T'] / n_string\n",
    "  \n",
    "    return (profile)\n",
    "\n",
    "def GreedyMotifSearch(dnas, k, t):\n",
    "    if type(dnas) == str:\n",
    "        dnas = dnas.split(\" \")\n",
    "    \n",
    "    best_motifs = []\n",
    "    for string in dnas:\n",
    "        best_motifs.append (string[0:k])\n",
    "    base_string   = dnas[0]\n",
    "    other_strings = dnas[1:]\n",
    "    \n",
    "    for start in range(len(base_string) - k + 1):\n",
    "        end    = start + k \n",
    "        motif  = base_string[start: end]\n",
    "        motifs = [motif]\n",
    "        for string in other_strings:\n",
    "            profile   = ProfileMatrix(motifs)\n",
    "            new_motif = ProfileMostProbableKmer(string, k, profile)\n",
    "            motifs.append(new_motif)\n",
    "            \n",
    "        best_score    = DistanceBetweenPatternAndStrings(best_motifs[0], best_motifs)\n",
    "        current_score = DistanceBetweenPatternAndStrings(motifs[0], motifs)\n",
    "        if best_score > current_score:\n",
    "            best_motifs = motifs\n",
    "            \n",
    "    return(best_motifs)\n",
    "\n",
    "# Test\n",
    "k    = 3 \n",
    "t    = 5\n",
    "dnas = 'GGCGTTCAGGCA AAGAATCAGTCA CAAGGAGTTCGC CACGTCAATCAC CAATAATATTCG'\n",
    "\n",
    "print(GreedyMotifSearch(dnas, k, t))"
   ]
  },
  {
   "cell_type": "code",
   "execution_count": 24,
   "metadata": {},
   "outputs": [
    {
     "name": "stdout",
     "output_type": "stream",
     "text": [
      "['TTC', 'ATC', 'TTC', 'ATC', 'TTC']\n"
     ]
    }
   ],
   "source": [
    "'''\n",
    "Code Challenge: Implement GreedyMotifSearch with pseudocounts.\n",
    "Input: Integers k and t, followed by a collection of strings Dna.\n",
    "Output: A collection of strings BestMotifs resulting from applying GreedyMotifSearch(Dna, k, t) with pseudocounts.\n",
    "'''\n",
    "\n",
    "def ProfileMatrix_Pseudocounts(strings):\n",
    "    strings  = list(strings)\n",
    "    n_string = len(strings)\n",
    "    k        = len(strings[0])\n",
    "    profile  = np.array([0] * 4 * k, dtype='f').reshape(4, k)\n",
    "    \n",
    "    for i in range(k):\n",
    "        base_i = []\n",
    "        for string in strings:\n",
    "            base_i.append(string[i])\n",
    "        count_base    = Counter(base_i)\n",
    "        profile[0, i] = (count_base['A'] + 1) / (n_string + 4)\n",
    "        profile[1, i] = (count_base['C'] + 1) / (n_string + 4)\n",
    "        profile[2, i] = (count_base['G'] + 1) / (n_string + 4)\n",
    "        profile[3, i] = (count_base['T'] + 1) / (n_string + 4)\n",
    "  \n",
    "    return (profile)\n",
    "\n",
    "def GreedyMotifSearch_Pseudocounts(dnas, k, t):\n",
    "    if type(dnas) == str:\n",
    "        dnas = dnas.split(\" \")\n",
    "    \n",
    "    best_motifs = []\n",
    "    for string in dnas:\n",
    "        best_motifs.append (string[0:k])\n",
    "    base_string   = dnas[0]\n",
    "    other_strings = dnas[1:]\n",
    "    \n",
    "    for start in range(len(base_string) - k + 1):\n",
    "        end    = start + k \n",
    "        motif  = base_string[start: end]\n",
    "        motifs = [motif]\n",
    "        for string in other_strings:\n",
    "            profile   = ProfileMatrix_Pseudocounts(motifs)\n",
    "            new_motif = ProfileMostProbableKmer(string, k, profile)\n",
    "            motifs.append(new_motif)\n",
    "            \n",
    "        best_score    = DistanceBetweenPatternAndStrings(best_motifs[0], best_motifs)\n",
    "        current_score = DistanceBetweenPatternAndStrings(motifs[0], motifs)\n",
    "        if best_score > current_score:\n",
    "            best_motifs = motifs\n",
    "            \n",
    "    return(best_motifs)\n",
    "\n",
    "# Test\n",
    "k    = 3 \n",
    "t    = 5\n",
    "dnas = 'GGCGTTCAGGCA AAGAATCAGTCA CAAGGAGTTCGC CACGTCAATCAC CAATAATATTCG'\n",
    "\n",
    "print(GreedyMotifSearch_Pseudocounts(dnas, k, t))"
   ]
  },
  {
   "cell_type": "markdown",
   "metadata": {},
   "source": [
    "# Week 4"
   ]
  },
  {
   "cell_type": "code",
   "execution_count": 25,
   "metadata": {},
   "outputs": [
    {
     "name": "stdout",
     "output_type": "stream",
     "text": [
      "['TCTCGGGG', 'TGTAAGTG', 'TACAGGCG', 'TTCAGGTG', 'TCCACGTG']\n"
     ]
    }
   ],
   "source": [
    "'''\n",
    "Code Challenge: Implement RandomizedMotifSearch.\n",
    "Input: Integers k and t, followed by a collection of strings Dna.\n",
    "Output: A collection BestMotifs resulting from running RandomizedMotifSearch(Dna, k, t) 1,000 times. \n",
    "'''\n",
    "\n",
    "def Score(motifs):\n",
    "    if type(motifs) == str:\n",
    "        motifs = motifs.split(\" \")\n",
    "    \n",
    "    All_base = []\n",
    "    for motif in motifs:\n",
    "        All_base.extend(list(motif))\n",
    "    All_base = np.array(All_base).reshape(len(motifs), len(motifs[0]))\n",
    "    \n",
    "    score = 0\n",
    "    for i in range(k):\n",
    "        count     = Counter(All_base[:,i])\n",
    "        score = score + len(motifs) - count.most_common(1)[0][1]\n",
    "\n",
    "    return (score)\n",
    "\n",
    "def RandomizedMotifSearch(dnas, k, t):\n",
    "    if type(dnas) == str:\n",
    "        dnas = dnas.split(\"\\n\")\n",
    "    \n",
    "    motifs = []\n",
    "    for dna in dnas:\n",
    "        start = random.randrange(len(dna) - k + 1)\n",
    "        end   = start + k\n",
    "        motif = dna[start: end]\n",
    "        motifs.append(motif)\n",
    "    best_motifs = motifs\n",
    "    \n",
    "    while True: \n",
    "        profile = ProfileMatrix_Pseudocounts(motifs)\n",
    "        motifs  = []\n",
    "        for dna in dnas:\n",
    "            motif = ProfileMostProbableKmer(dna, k, profile)\n",
    "            motifs.append(motif)\n",
    "            \n",
    "        score_best    = Score(best_motifs)\n",
    "        score_current = Score(motifs)\n",
    "        \n",
    "        if score_best > score_current:\n",
    "            best_motifs = motifs\n",
    "        else:\n",
    "            return (best_motifs)\n",
    "    \n",
    "\n",
    "k = 8\n",
    "t = 5\n",
    "dnas='''CGCCCCTCTCGGGGGTGTTCAGTAAACGGCCA\n",
    "GGGCGAGGTATGTGTAAGTGCCAAGGTGCCAG\n",
    "TAGTACCGAGACCGAAAGAAGTATACAGGCGT\n",
    "TAGATCAAGTTTCAGGTGCACGTCGGTGAACC\n",
    "AATCCACCAGCTCCACGTGCAATGTTGGCCTA'''\n",
    "\n",
    "# Run the RandomizedMotifSearch 1000 times\n",
    "motifs      = RandomizedMotifSearch(dnas, k, t)\n",
    "best_motifs = motifs\n",
    "loop   = 1000\n",
    "for i in range(loop):\n",
    "    \n",
    "    motifs        = RandomizedMotifSearch(dnas, k, t)\n",
    "    profile       = ProfileMatrix_Pseudocounts(motifs)\n",
    "    \n",
    "    score_best    = Score(best_motifs)\n",
    "    score_current = Score(motifs)\n",
    "\n",
    "    if score_best > score_current:\n",
    "        best_motifs = motifs\n",
    "        \n",
    "print(best_motifs)"
   ]
  },
  {
   "cell_type": "code",
   "execution_count": 26,
   "metadata": {},
   "outputs": [
    {
     "name": "stdout",
     "output_type": "stream",
     "text": [
      "['TCTCGGGG', 'CCAAGGTG', 'TACAGGCG', 'TTCAGGTG', 'TCCACGTG']\n"
     ]
    }
   ],
   "source": [
    "'''\n",
    "Code Challenge: Implement GibbsSampler.\n",
    "Input: Integers k, t, and N, followed by a collection of strings Dna.\n",
    "Output: The strings BestMotifs resulting from running GibbsSampler(Dna, k, t, N) with 20 random starts. \n",
    "'''\n",
    "\n",
    "\n",
    "def Random(motifs, profile):\n",
    "    #if type(profile) == str:\n",
    "        #profile = profile.split(\" \")\n",
    "    #profile  = np.array(profile, dtype='f').reshape(4, int(len(profile) / 4))\n",
    "    prob_all = []\n",
    "    \n",
    "    for motif in motifs:\n",
    "        prob_motif = 1\n",
    "        for i in range(len(motif)):\n",
    "            if   motif[i] == 'A': prob_motif = prob_motif * profile[0, i]\n",
    "            elif motif[i] == 'C': prob_motif = prob_motif * profile[1, i]\n",
    "            elif motif[i] == 'G': prob_motif = prob_motif * profile[2, i]\n",
    "            elif motif[i] == 'T': prob_motif = prob_motif * profile[3, i]\n",
    "        prob_all.append(prob_motif)\n",
    "    \n",
    "    sum_prob = sum(prob_all)\n",
    "    for i in range(len(motifs)):\n",
    "        prob_all[i] = prob_all[i]/sum_prob\n",
    "    \n",
    "    choose_index = random.choices(range(len(motifs)), prob_all)[0]\n",
    "    \n",
    "    return(choose_index)\n",
    "\n",
    "def GibbsSampler(dnas, k, t, N):\n",
    "    if type(dnas) == str:\n",
    "        dnas = dnas.split(\"\\n\")\n",
    "        \n",
    "    '''\n",
    "    motifs      = RandomizedMotifSearch(dnas, k, t)\n",
    "    best_motifs = motifs\n",
    "    loop        = 30\n",
    "    for i in range(loop):\n",
    "\n",
    "        motifs        = RandomizedMotifSearch(dnas, k, t)\n",
    "        profile       = ProfileMatrix_Pseudocounts(motifs)\n",
    "\n",
    "        score_best    = Score(best_motifs)\n",
    "        score_current = Score(motifs)\n",
    "\n",
    "        if score_best > score_current:\n",
    "            best_motifs = motifs\n",
    "    \n",
    "    motifs = best_motifs\n",
    "    '''\n",
    "    \n",
    "    motifs = []\n",
    "    for dna in dnas:\n",
    "        start = random.randrange(len(dna) - k + 1)\n",
    "        end   = start + k\n",
    "        motif = dna[start: end]\n",
    "        motifs.append(motif)\n",
    "        \n",
    "    \n",
    "    profile = ProfileMatrix_Pseudocounts(motifs)\n",
    "    best_motifs = motifs\n",
    "    \n",
    "    for loop in range(N):\n",
    "        i          = Random(motifs, profile)\n",
    "        motifs_tmp = motifs[:i] + motifs[(i+1):]\n",
    "        profile    = ProfileMatrix_Pseudocounts(motifs_tmp)\n",
    "        motifs[i]  = ProfileMostProbableKmer(dnas[i], k, profile)\n",
    "        \n",
    "        score_best    = Score(best_motifs)\n",
    "        score_current = Score(motifs)\n",
    "\n",
    "        if score_best > score_current:\n",
    "            best_motifs = motifs\n",
    "    return(best_motifs)\n",
    "\n",
    "k = 8\n",
    "t = 5\n",
    "N = 100\n",
    "dnas = '''CGCCCCTCTCGGGGGTGTTCAGTAACCGGCCA\n",
    "GGGCGAGGTATGTGTAAGTGCCAAGGTGCCAG\n",
    "TAGTACCGAGACCGAAAGAAGTATACAGGCGT\n",
    "TAGATCAAGTTTCAGGTGCACGTCGGTGAACC\n",
    "AATCCACCAGCTCCACGTGCAATGTTGGCCTA'''\n",
    "\n",
    "# Run the RandomizedMotifSearch 1000 times\n",
    "motifs      = GibbsSampler(dnas, k, t, N)\n",
    "best_motifs = motifs\n",
    "loop   = 1000\n",
    "for i in range(loop):   \n",
    "    \n",
    "    motifs        = GibbsSampler(dnas, k, t, N)    \n",
    "    score_best    = Score(best_motifs)\n",
    "    score_current = Score(motifs)\n",
    "\n",
    "    if score_best > score_current:\n",
    "        best_motifs = motifs\n",
    "\n",
    "print(best_motifs)"
   ]
  }
 ],
 "metadata": {
  "kernelspec": {
   "display_name": "Python 3",
   "language": "python",
   "name": "python3"
  },
  "language_info": {
   "codemirror_mode": {
    "name": "ipython",
    "version": 3
   },
   "file_extension": ".py",
   "mimetype": "text/x-python",
   "name": "python",
   "nbconvert_exporter": "python",
   "pygments_lexer": "ipython3",
   "version": "3.6.3"
  }
 },
 "nbformat": 4,
 "nbformat_minor": 2
}
