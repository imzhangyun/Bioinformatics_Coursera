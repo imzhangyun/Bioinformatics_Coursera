{
 "cells": [
  {
   "cell_type": "markdown",
   "metadata": {},
   "source": [
    "# Week 1"
   ]
  },
  {
   "cell_type": "code",
   "execution_count": null,
   "metadata": {},
   "outputs": [],
   "source": [
    "def PatternCount(text, pattern):\n",
    "    count = 0\n",
    "    for start in range(len(text) - len(pattern) + 1):\n",
    "        end = start + len(pattern)\n",
    "        if pattern == text[start: end]:\n",
    "            count = count + 1\n",
    "    return(count)"
   ]
  },
  {
   "cell_type": "code",
   "execution_count": null,
   "metadata": {},
   "outputs": [],
   "source": [
    "def FrequentWords(text, k):\n",
    "    sub_texts = set()\n",
    "    for start in range(len(text) - k + 1):\n",
    "        end = start + k\n",
    "        sub_texts.add(text[start: end])\n",
    "        \n",
    "    counts = {}\n",
    "    for sub_text in sub_texts:\n",
    "        counts [sub_text] = PatternCount(text, sub_text)\n",
    "        \n",
    "    max_count = max(counts.values())\n",
    "    \n",
    "    for count in counts:\n",
    "        if counts[count] == max_count:\n",
    "            print(count)"
   ]
  },
  {
   "cell_type": "code",
   "execution_count": null,
   "metadata": {},
   "outputs": [],
   "source": [
    "def ReverseComplement(text):\n",
    "    complementry_rule = {\n",
    "        'A' : 'T',\n",
    "        'T' : 'A',\n",
    "        'C' : 'G',\n",
    "        'G' : 'C' \n",
    "    }\n",
    "    \n",
    "    com_text = ''\n",
    "    for base in text:\n",
    "        com_text = com_text + complementry_rule[base]\n",
    "    \n",
    "    com_text = com_text[::-1]\n",
    "    \n",
    "    return (com_text)"
   ]
  },
  {
   "cell_type": "code",
   "execution_count": null,
   "metadata": {},
   "outputs": [],
   "source": [
    "def PatternMatching(pattern, genome):\n",
    "    positions = []\n",
    "    for start in range(len(genome) - len(pattern) + 1):\n",
    "        end = start + len(pattern)\n",
    "        if pattern == genome[start: end]:\n",
    "            positions.append(start)\n",
    "    return(positions)"
   ]
  },
  {
   "cell_type": "code",
   "execution_count": null,
   "metadata": {},
   "outputs": [],
   "source": [
    "import numpy as np\n",
    "\n",
    "def ClumpFinding(genome, k, L, t):\n",
    "    patterns_positions={}\n",
    "    \n",
    "    for start in range(len(genome) - k +1):\n",
    "        end = start + k\n",
    "        pattern = genome[start: end]\n",
    "        if pattern in patterns_positions:\n",
    "            patterns_positions[pattern].append(start)\n",
    "        else:\n",
    "            patterns_positions[pattern] = [start]\n",
    "            \n",
    "    qualified_patterns = []        \n",
    "    for pattern, positions in patterns_positions.items():\n",
    "        if len(positions) >= t:\n",
    "            for position in positions:\n",
    "                count = sum((np.array(positions) >= position) &\n",
    "                      (np.array(positions) <= position + L))\n",
    "                if count == t:\n",
    "                    qualified_patterns.append(pattern)\n",
    "                    break\n",
    "    return(qualified_patterns)"
   ]
  },
  {
   "cell_type": "code",
   "execution_count": null,
   "metadata": {},
   "outputs": [],
   "source": [
    "def PatternToNumber(pattern):\n",
    "    if   pattern == 'A': return(0)\n",
    "    elif pattern == 'C': return(1)\n",
    "    elif pattern == 'G': return(2)\n",
    "    elif pattern == 'T': return(3)\n",
    "    else:\n",
    "        number = PatternToNumber(pattern[:-1])*4 + PatternToNumber(pattern[-1])\n",
    "        return(number)\n",
    "\n",
    "def NumberToBase(number):\n",
    "    if   number == 0: \n",
    "        return('A')\n",
    "    elif number == 1: \n",
    "        return('C')\n",
    "    elif number == 2: \n",
    "        return('G')\n",
    "    elif number == 3:\n",
    "        return('T')\n",
    "\n",
    "def NumberToPattern(number,digits):\n",
    "    pattern = ''\n",
    "    for i in range(digits):\n",
    "        base    = NumberToBase(number % 4)\n",
    "        pattern = base + pattern\n",
    "        number  = number // 4\n",
    "    return(pattern)\n",
    "        "
   ]
  },
  {
   "cell_type": "code",
   "execution_count": null,
   "metadata": {},
   "outputs": [],
   "source": [
    "def ComputingFrequencies(text, k):\n",
    "    FrequencyArray = [0] * (4**k)\n",
    "    \n",
    "    for start in range(len(text) - k +1):\n",
    "        end               = start + k\n",
    "        j                 = PatternToNumber(text[start:end])\n",
    "        FrequencyArray[j] = FrequencyArray[j] + 1\n",
    "    \n",
    "    return (FrequencyArray)"
   ]
  },
  {
   "cell_type": "code",
   "execution_count": null,
   "metadata": {},
   "outputs": [],
   "source": [
    "def FasterFrequentWords(text, k):\n",
    "    FrequentPatterns = []\n",
    "    FrequencyArray   = ComputingFrequencies(text, k)\n",
    "    maxCount         = max(FrequencyArray)\n",
    "    \n",
    "    for i, count in enumerate(FrequencyArray):\n",
    "        if count == maxCount:\n",
    "            pattern = NumberToPattern(i, k)\n",
    "            FrequentPatterns.append(pattern)\n",
    "            \n",
    "    return (FrequentPatterns)"
   ]
  },
  {
   "cell_type": "code",
   "execution_count": null,
   "metadata": {},
   "outputs": [],
   "source": [
    "def BetterClumpFinding(genome, k, t, L):\n",
    "    FrequentPatterns   = []\n",
    "    FrequencyArray_all = [0] * (4 ** k)\n",
    "    text               = genome[0: L]\n",
    "    FrequencyArray     = ComputingFrequencies(text, k)\n",
    "    for i in range(4 ** k):\n",
    "        if FrequencyArray[i] >= t:\n",
    "            FrequencyArray_all = 1\n",
    "    for i in range(0, len(genome) - L +1):\n",
    "        FirstPattern          = genome[i: k + i]\n",
    "        index                 = PatternToNumber(FirstPattern)\n",
    "        FrequencyArray[index] = FrequencyArray[index] - 1\n",
    "        LastPattern           = genome[i + L - k: i + L]\n",
    "        index                 = PatternToNumber(LastPattern)\n",
    "        FrequencyArray[index] = FrequencyArray[index] + 1\n",
    "        if FrequencyArray[index] >= t:\n",
    "            FrequencyArray_all[index] =1\n",
    "    for i in range(4 ** k):\n",
    "        if FrequencyArray_all[i] == 1:\n",
    "            pattern = NumberToPattern(i, k)\n",
    "            FrequentPatterns.append(pattern)\n",
    "    return (FrequentPatterns)"
   ]
  },
  {
   "cell_type": "markdown",
   "metadata": {},
   "source": [
    "# Week 2"
   ]
  },
  {
   "cell_type": "code",
   "execution_count": null,
   "metadata": {},
   "outputs": [],
   "source": [
    "import numpy as np\n",
    "def MinimumSkew(Genome):\n",
    "    \n",
    "    scores = [0]\n",
    "    for base in Genome:\n",
    "        if   base == 'C': scores.append(scores[-1] - 1)\n",
    "        elif base == 'G': scores.append(scores[-1] + 1)\n",
    "        else :            scores.append(scores[-1])\n",
    "            \n",
    "    scores    = np.array(scores)\n",
    "    min_index = list(np.where(scores == min(scores))[0])\n",
    "    return(min_index)"
   ]
  },
  {
   "cell_type": "code",
   "execution_count": null,
   "metadata": {},
   "outputs": [],
   "source": [
    "def HammingDistance(string1, string2):\n",
    "    mismatch = 0\n",
    "    for base1, base2 in zip (string1, string2):\n",
    "        if base1 != base2: \n",
    "            mismatch = mismatch + 1\n",
    "    return (mismatch)"
   ]
  },
  {
   "cell_type": "code",
   "execution_count": null,
   "metadata": {},
   "outputs": [],
   "source": [
    "def ApproximatePatternMatching(Text, Pattern, d):\n",
    "    positions   = []\n",
    "    pattern_len = len(Pattern)\n",
    "    \n",
    "    for start in range(len(Text) - pattern_len + 1):\n",
    "        end = start + pattern_len\n",
    "        if HammingDistance(Pattern, Text[start: end]) <= d:\n",
    "            positions.append(start)\n",
    "    return (positions)"
   ]
  },
  {
   "cell_type": "code",
   "execution_count": null,
   "metadata": {},
   "outputs": [],
   "source": [
    "def ApproximatePatternCount(text, pattern, d):\n",
    "    count = 0\n",
    "    for start in range(len(text) - len(pattern) + 1):\n",
    "        end = start + len(pattern)\n",
    "        if HammingDistance(pattern, text[start: end]) <= d:\n",
    "            count = count + 1\n",
    "    return(count)"
   ]
  },
  {
   "cell_type": "code",
   "execution_count": null,
   "metadata": {},
   "outputs": [],
   "source": [
    "def ImmediateNeighbors(pattern):    \n",
    "    bases     = ['A', 'C', 'G', 'T']\n",
    "    neighbors = []\n",
    "    \n",
    "    for i in range(len(pattern)):\n",
    "        other_bases = bases.copy()\n",
    "        other_bases.remove(pattern[i])\n",
    "        \n",
    "        for base in other_bases:\n",
    "            neighbor    = list(pattern)\n",
    "            neighbor[i] = base\n",
    "            neighbor    = ''.join(neighbor)\n",
    "            neighbors.append(neighbor)\n",
    "    \n",
    "    return(neighbors)"
   ]
  },
  {
   "cell_type": "code",
   "execution_count": null,
   "metadata": {},
   "outputs": [],
   "source": [
    "def Neighbors(pattern, d):\n",
    "    bases     = ['A', 'C', 'G', 'T']\n",
    "    \n",
    "    if d == 0:\n",
    "        return (pattern)\n",
    "    if len(pattern) == 1:\n",
    "        return (bases)\n",
    "\n",
    "    neighbors       = []\n",
    "    suffixNeighbors = Neighbors(pattern[1:], d)\n",
    "    for text in suffixNeighbors:\n",
    "        if HammingDistance(pattern[1:], text) < d:\n",
    "            for base in bases:\n",
    "                neighbors.append(base + text)\n",
    "        else :\n",
    "            neighbors.append(pattern[0] + text)\n",
    "    return(neighbors)"
   ]
  },
  {
   "cell_type": "code",
   "execution_count": null,
   "metadata": {},
   "outputs": [],
   "source": [
    "def ComputingFrequenciesWithMismatches(text, k, d):\n",
    "    FrequencyArray = [0] * (4 ** k)\n",
    "    neighborhoods  = []\n",
    "    for start in range(len(text) - k + 1):\n",
    "        end               = start + k\n",
    "        pattern           = text[start: end]\n",
    "        neighborhood      = Neighbors(pattern, d)\n",
    "        if type(neighborhood) == str:\n",
    "            neighborhoods.append(neighborhood)\n",
    "        else:\n",
    "            neighborhoods.extend(neighborhood)\n",
    "\n",
    "    for string in neighborhoods:\n",
    "        j                 = PatternToNumber(string)\n",
    "        FrequencyArray[j] = FrequencyArray[j] + 1\n",
    "    \n",
    "    return (FrequencyArray)"
   ]
  },
  {
   "cell_type": "code",
   "execution_count": null,
   "metadata": {},
   "outputs": [],
   "source": [
    "import numpy as np\n",
    "def FrequentWordsWithMismatches(text, k, d):\n",
    "    FrequencyPatterns = []\n",
    "    FrequencyArray    = np.array(ComputingFrequenciesWithMismatches(text, k, d))\n",
    "    max_frequency     = max(FrequencyArray)\n",
    "    max_index         = list(np.where(FrequencyArray == max_frequency)[0])\n",
    "\n",
    "    for index in max_index:\n",
    "        FrequencyPatterns.append(NumberToPattern(index, k))\n",
    "    \n",
    "    return (FrequencyPatterns)"
   ]
  },
  {
   "cell_type": "code",
   "execution_count": null,
   "metadata": {},
   "outputs": [],
   "source": [
    "def FrequentWordsWithMismatchesAndReverseComplements(text, k, d):\n",
    "    FrequencyPatterns = []\n",
    "    FrequencyArray    = np.array(ComputingFrequenciesWithMismatches(text, k, d))\n",
    "    R_FrequencyArray  = np.array(ComputingFrequenciesWithMismatches(ReverseComplement(text), k, d))\n",
    "    FrequencyArray    = FrequencyArray + R_FrequencyArray\n",
    "    max_frequency     = max(FrequencyArray)\n",
    "    max_index         = list(np.where(FrequencyArray == max_frequency)[0])\n",
    "\n",
    "    for index in max_index:\n",
    "        FrequencyPatterns.append(NumberToPattern(index, k))\n",
    "        \n",
    "    return (FrequencyPatterns)"
   ]
  }
 ],
 "metadata": {
  "kernelspec": {
   "display_name": "Python 3",
   "language": "python",
   "name": "python3"
  },
  "language_info": {
   "codemirror_mode": {
    "name": "ipython",
    "version": 3
   },
   "file_extension": ".py",
   "mimetype": "text/x-python",
   "name": "python",
   "nbconvert_exporter": "python",
   "pygments_lexer": "ipython3",
   "version": "3.6.3"
  }
 },
 "nbformat": 4,
 "nbformat_minor": 2
}
